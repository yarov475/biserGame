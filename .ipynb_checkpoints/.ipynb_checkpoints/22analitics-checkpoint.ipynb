{
 "cells": [
  {
   "cell_type": "code",
   "execution_count": 1,
   "id": "b469a8db",
   "metadata": {},
   "outputs": [],
   "source": [
    "import pandas as pd\n"
   ]
  },
  {
   "cell_type": "code",
   "execution_count": 2,
   "id": "762b26cf",
   "metadata": {},
   "outputs": [],
   "source": [
    "import matplotlib.pyplot as plt"
   ]
  },
  {
   "cell_type": "code",
   "execution_count": 3,
   "id": "f44b438e",
   "metadata": {},
   "outputs": [],
   "source": [
    "from matplotlib import pyplot"
   ]
  },
  {
   "cell_type": "code",
   "execution_count": 4,
   "id": "dc02dae1",
   "metadata": {},
   "outputs": [],
   "source": [
    "all = pd.read_csv('22Data.csv',delimiter=',')"
   ]
  },
  {
   "cell_type": "code",
   "execution_count": 5,
   "id": "df67a75c",
   "metadata": {
    "scrolled": true
   },
   "outputs": [
    {
     "data": {
      "text/html": [
       "<div>\n",
       "<style scoped>\n",
       "    .dataframe tbody tr th:only-of-type {\n",
       "        vertical-align: middle;\n",
       "    }\n",
       "\n",
       "    .dataframe tbody tr th {\n",
       "        vertical-align: top;\n",
       "    }\n",
       "\n",
       "    .dataframe thead th {\n",
       "        text-align: right;\n",
       "    }\n",
       "</style>\n",
       "<table border=\"1\" class=\"dataframe\">\n",
       "  <thead>\n",
       "    <tr style=\"text-align: right;\">\n",
       "      <th></th>\n",
       "      <th>id</th>\n",
       "      <th>name</th>\n",
       "      <th>age</th>\n",
       "      <th>sex</th>\n",
       "      <th>link</th>\n",
       "      <th>text</th>\n",
       "    </tr>\n",
       "  </thead>\n",
       "  <tbody>\n",
       "    <tr>\n",
       "      <th>0</th>\n",
       "      <td>1</td>\n",
       "      <td>Ольга Матюшина</td>\n",
       "      <td>56</td>\n",
       "      <td>f</td>\n",
       "      <td>https://prozhito.org/note/448077</td>\n",
       "      <td>Евгения Михайловна много лет жила в двухэтажно...</td>\n",
       "    </tr>\n",
       "    <tr>\n",
       "      <th>1</th>\n",
       "      <td>2</td>\n",
       "      <td>Иван Савиков</td>\n",
       "      <td>38</td>\n",
       "      <td>m</td>\n",
       "      <td>https://prozhito.org/note/451514</td>\n",
       "      <td>И вот 22 июня, когда меня трясла малярия, вдру...</td>\n",
       "    </tr>\n",
       "    <tr>\n",
       "      <th>2</th>\n",
       "      <td>3</td>\n",
       "      <td>Лев Пашерстник</td>\n",
       "      <td>16</td>\n",
       "      <td>m</td>\n",
       "      <td>https://prozhito.org/note/453306https://prozhi...</td>\n",
       "      <td>Сегодня по радио передавали речь Молотова о пе...</td>\n",
       "    </tr>\n",
       "    <tr>\n",
       "      <th>3</th>\n",
       "      <td>4</td>\n",
       "      <td>Андрей Батуев</td>\n",
       "      <td>33</td>\n",
       "      <td>m</td>\n",
       "      <td>https://prozhito.org/note/453408https://prozhi...</td>\n",
       "      <td>День ясный, теплый, солнечный. Однако это уже ...</td>\n",
       "    </tr>\n",
       "    <tr>\n",
       "      <th>4</th>\n",
       "      <td>5</td>\n",
       "      <td>Янис Гринвалдс</td>\n",
       "      <td>44</td>\n",
       "      <td>m</td>\n",
       "      <td>https://prozhito.org/note/461521</td>\n",
       "      <td>На выставке нас поразила карта Советского Союз...</td>\n",
       "    </tr>\n",
       "    <tr>\n",
       "      <th>5</th>\n",
       "      <td>6</td>\n",
       "      <td>Василий Леонтьев</td>\n",
       "      <td>16</td>\n",
       "      <td>m</td>\n",
       "      <td>https://prozhito.org/note/461628</td>\n",
       "      <td>До этого дня много купались. Уже все загорели....</td>\n",
       "    </tr>\n",
       "    <tr>\n",
       "      <th>6</th>\n",
       "      <td>7</td>\n",
       "      <td>Елизавета Турнас</td>\n",
       "      <td>27 лет</td>\n",
       "      <td>f</td>\n",
       "      <td>https://prozhito.org/note/463884</td>\n",
       "      <td>22-го июня с утра пошли с сыном в баню, Вл. Ив...</td>\n",
       "    </tr>\n",
       "    <tr>\n",
       "      <th>7</th>\n",
       "      <td>8</td>\n",
       "      <td>Наталия Колесникова</td>\n",
       "      <td>undefined</td>\n",
       "      <td>f</td>\n",
       "      <td>https://prozhito.org/note/466637</td>\n",
       "      <td>Воскресенье. В ночь с 21 июля на 22 была перва...</td>\n",
       "    </tr>\n",
       "    <tr>\n",
       "      <th>8</th>\n",
       "      <td>9</td>\n",
       "      <td>АлександраЗагорская</td>\n",
       "      <td>undefined</td>\n",
       "      <td>f</td>\n",
       "      <td>https://prozhito.org/note/466717</td>\n",
       "      <td>Началась война с немецкими фашистами. Помню, к...</td>\n",
       "    </tr>\n",
       "    <tr>\n",
       "      <th>9</th>\n",
       "      <td>10</td>\n",
       "      <td>Александр Резяпкин</td>\n",
       "      <td>32</td>\n",
       "      <td>m</td>\n",
       "      <td>https://prozhito.org/note/467550</td>\n",
       "      <td>Как только Молотов окончил свою речь, капитан ...</td>\n",
       "    </tr>\n",
       "  </tbody>\n",
       "</table>\n",
       "</div>"
      ],
      "text/plain": [
       "   id                 name        age sex  \\\n",
       "0   1       Ольга Матюшина         56   f   \n",
       "1   2         Иван Савиков         38   m   \n",
       "2   3       Лев Пашерстник         16   m   \n",
       "3   4        Андрей Батуев         33   m   \n",
       "4   5       Янис Гринвалдс         44   m   \n",
       "5   6     Василий Леонтьев         16   m   \n",
       "6   7     Елизавета Турнас     27 лет   f   \n",
       "7   8  Наталия Колесникова  undefined   f   \n",
       "8   9  АлександраЗагорская  undefined   f   \n",
       "9  10   Александр Резяпкин         32   m   \n",
       "\n",
       "                                                link  \\\n",
       "0                   https://prozhito.org/note/448077   \n",
       "1                   https://prozhito.org/note/451514   \n",
       "2  https://prozhito.org/note/453306https://prozhi...   \n",
       "3  https://prozhito.org/note/453408https://prozhi...   \n",
       "4                   https://prozhito.org/note/461521   \n",
       "5                   https://prozhito.org/note/461628   \n",
       "6                   https://prozhito.org/note/463884   \n",
       "7                   https://prozhito.org/note/466637   \n",
       "8                   https://prozhito.org/note/466717   \n",
       "9                   https://prozhito.org/note/467550   \n",
       "\n",
       "                                                text  \n",
       "0  Евгения Михайловна много лет жила в двухэтажно...  \n",
       "1  И вот 22 июня, когда меня трясла малярия, вдру...  \n",
       "2  Сегодня по радио передавали речь Молотова о пе...  \n",
       "3  День ясный, теплый, солнечный. Однако это уже ...  \n",
       "4  На выставке нас поразила карта Советского Союз...  \n",
       "5  До этого дня много купались. Уже все загорели....  \n",
       "6  22-го июня с утра пошли с сыном в баню, Вл. Ив...  \n",
       "7  Воскресенье. В ночь с 21 июля на 22 была перва...  \n",
       "8  Началась война с немецкими фашистами. Помню, к...  \n",
       "9  Как только Молотов окончил свою речь, капитан ...  "
      ]
     },
     "metadata": {},
     "output_type": "display_data"
    }
   ],
   "source": [
    "display(all)"
   ]
  },
  {
   "cell_type": "markdown",
   "id": "84a7bbe3",
   "metadata": {},
   "source": [
    "# простая гистограмма до соноризации"
   ]
  },
  {
   "cell_type": "code",
   "execution_count": 19,
   "id": "db4910a9",
   "metadata": {},
   "outputs": [],
   "source": [
    "import matplotlib as mpl\n",
    "import matplotlib.pyplot as plt\n",
    "tone = pd.read_csv('22DataTone.csv')"
   ]
  },
  {
   "cell_type": "code",
   "execution_count": 27,
   "id": "60640049",
   "metadata": {},
   "outputs": [],
   "source": [
    "tone.head()\n",
    "mpl.style.use('dark_background')\n"
   ]
  },
  {
   "cell_type": "code",
   "execution_count": 18,
   "id": "96f22683",
   "metadata": {},
   "outputs": [],
   "source": [
    "pozitive = tone['+']\n",
    "negative = tone['-']\n",
    "neutrale = tone['0']\n"
   ]
  },
  {
   "cell_type": "markdown",
   "id": "66f5c22e",
   "metadata": {},
   "source": [
    "график плотности а не частоты"
   ]
  },
  {
   "cell_type": "code",
   "execution_count": 40,
   "id": "3b058ba3",
   "metadata": {},
   "outputs": [
    {
     "data": {
      "image/png": "[encoded data removed]",
      "text/plain": [
       "<Figure size 432x288 with 1 Axes>"
      ]
     },
     "metadata": {},
     "output_type": "display_data"
    }
   ],
   "source": [
    "mean_m = tone['+'].mean()\n",
    "neutrale_proc = (tone['+'].count() +tone['-'].count())/tone['0'].count()\n",
    "\n",
    "plt.hist(tone['+'],\n",
    "          ec = 'black',\n",
    "         color = 'tab:green',\n",
    "         alpha = 0.4,\n",
    "         rwidth = 0.9,\n",
    "          bins = 5,\n",
    "        label = 'pozitive',\n",
    "        density = True)\n",
    "plt.hist(tone['-'],\n",
    "          ec = 'black',\n",
    "         color = 'tab:red',\n",
    "         alpha = 0.4,\n",
    "         rwidth = 0.9,\n",
    "          bins = 5,\n",
    "        label = 'nefative',\n",
    "         density = True)\n",
    "plt.hist(tone['0'],\n",
    "          ec = 'black',\n",
    "         color = 'tab:blue',\n",
    "         alpha = 0.4,\n",
    "         rwidth = 0.9,\n",
    "          bins = 5,\n",
    "        label = 'neutrale',\n",
    "         density = True)\n",
    "\n",
    "plt.axvline(x = mean_m, color = 'orange', lw=2, ls = '-.')\n",
    "\n",
    "#plt.axvline(x = neutrale_proc, color = 'grey', lw=2, ls = '-')\n",
    "plt.xlabel('результат оценки')\n",
    "plt.ylabel('?')\n",
    "plt.title('Тональность текстов')\n",
    "plt.legend(loc = 'best')\n",
    "        \n",
    "plt.show()"
   ]
  },
  {
   "cell_type": "code",
   "execution_count": 55,
   "id": "73274966",
   "metadata": {},
   "outputs": [
    {
     "data": {
      "image/png": "[encoded data removed]",
      "text/plain": [
       "<Figure size 432x288 with 1 Axes>"
      ]
     },
     "metadata": {},
     "output_type": "display_data"
    }
   ],
   "source": [
    "plt.scatter(x = '+', y = '-',data = tone,\n",
    "          color = 'tab:blue',\n",
    "            s = 200,\n",
    "            marker = 'o',\n",
    "           )\n",
    "\n",
    "plt.title('негативные и позитивные тексты')\n",
    "plt.ylabel('негативность')\n",
    "plt.xlabel('позитивность')\n",
    "plt.show()"
   ]
  },
  {
   "cell_type": "code",
   "execution_count": 59,
   "id": "7e9a8396",
   "metadata": {},
   "outputs": [
    {
     "ename": "SyntaxError",
     "evalue": "invalid syntax (<ipython-input-59-2bb6ba44c286>, line 1)",
     "output_type": "error",
     "traceback": [
      "\u001b[1;36m  File \u001b[1;32m\"<ipython-input-59-2bb6ba44c286>\"\u001b[1;36m, line \u001b[1;32m1\u001b[0m\n\u001b[1;33m    neu_pro = tone['0']value_counts()\u001b[0m\n\u001b[1;37m                       ^\u001b[0m\n\u001b[1;31mSyntaxError\u001b[0m\u001b[1;31m:\u001b[0m invalid syntax\n"
     ]
    }
   ],
   "source": [
    "neu_pro = tone['0']value_counts()\n",
    "plt.barh(x = 0.index(),\n",
    "         heignt = 0\n",
    "plt.show()"
   ]
  },
  {
   "cell_type": "code",
   "execution_count": 52,
   "id": "1ae94a8f",
   "metadata": {},
   "outputs": [],
   "source": [
    "tone_color = {'+':'tab:green','-':'tab:red','0':'tab:blue'}"
   ]
  },
  {
   "cell_type": "code",
   "execution_count": null,
   "id": "15b8dc37",
   "metadata": {},
   "outputs": [],
   "source": [
    "import os"
   ]
  },
  {
   "cell_type": "code",
   "execution_count": null,
   "id": "eaa94801",
   "metadata": {},
   "outputs": [],
   "source": [
    "os.chdir('..')\n"
   ]
  },
  {
   "cell_type": "code",
   "execution_count": null,
   "id": "fea0e7e4",
   "metadata": {},
   "outputs": [],
   "source": [
    "paper =  pd.read_csv('22Data.csv',delimiter=',')"
   ]
  },
  {
   "cell_type": "code",
   "execution_count": null,
   "id": "2928161b",
   "metadata": {},
   "outputs": [],
   "source": [
    "papper = all[['text']]\n"
   ]
  },
  {
   "cell_type": "code",
   "execution_count": null,
   "id": "6e7d085e",
   "metadata": {},
   "outputs": [],
   "source": [
    "papper.head()\n",
    "\n",
    "\n"
   ]
  },
  {
   "cell_type": "code",
   "execution_count": null,
   "id": "af29949f",
   "metadata": {},
   "outputs": [],
   "source": [
    "import re\n",
    "\n",
    "\n",
    "# Remove punctuation\n",
    "papper['text_processed'] = \\\n",
    "papper['text'].map(lambda x: re.sub('[,\\.!?]', '', x))\n",
    "# Convert the titles to lowercase\n",
    "papper['text_processed'] = \\\n",
    "papper['text_processed'].map(lambda x: x.lower())\n",
    "# Print out the first rows of papers\n",
    "papper['text_processed'].head()"
   ]
  },
  {
   "cell_type": "code",
   "execution_count": null,
   "id": "dcbf5a15",
   "metadata": {},
   "outputs": [],
   "source": []
  },
  {
   "cell_type": "code",
   "execution_count": null,
   "id": "ad79d9cb",
   "metadata": {},
   "outputs": [],
   "source": [
    "# Import the wordcloud library\n",
    "from wordcloud import WordCloud\n",
    "# Join the different processed titles together.\n",
    "long_string = ','.join(list(papper['text_processed'].values))\n",
    "# Create a WordCloud object\n",
    "wordcloud = WordCloud(background_color=\"black\", max_words=5000, contour_width=3, contour_color='steelblue')\n",
    "# Generate a word cloud\n",
    "wordcloud.generate(long_string)\n",
    "# Visualize the word cloud\n",
    "wordcloud.to_image()"
   ]
  },
  {
   "cell_type": "code",
   "execution_count": null,
   "id": "5ff1450b",
   "metadata": {},
   "outputs": [],
   "source": [
    "import gensim\n",
    "from gensim.utils import simple_preprocess\n",
    "import nltk\n",
    "out = open('C:/Users/yayar/OneDrive/Documents/текст дисертации Ярочкин/публикации/sonicDataAnalizeYaro/dostoevsky/dosroevsky_data/row.txt','w', encoding='utf8')\n",
    "nltk.download('stopwords')\n",
    "from nltk.corpus import stopwords\n",
    "stop_words = stopwords.words('russian')\n",
    "stop_words.extend(['в', 'на', 'и', 'не', 'за','b','евгения','михаиловна'])\n",
    "def sent_to_words(sentences):\n",
    "    for sentence in sentences:\n",
    "        # deacc=True removes punctuations\n",
    "        yield(gensim.utils.simple_preprocess(str(sentence), deacc=True))\n",
    "def remove_stopwords(texts):\n",
    "    return [[word for word in simple_preprocess(str(doc)) \n",
    "             if word not in stop_words] for doc in texts]\n",
    "data = papper.text_processed.values.tolist()\n",
    "data_words = list(sent_to_words(data))\n",
    "# remove stop words\n",
    "data_words = remove_stopwords(data_words)\n",
    "print(data_words[:1][0][:30])\n",
    "\n"
   ]
  },
  {
   "cell_type": "code",
   "execution_count": null,
   "id": "5ae60be5",
   "metadata": {},
   "outputs": [],
   "source": [
    "import gensim.corpora as corpora\n",
    "# Create Dictionary\n",
    "id2word = corpora.Dictionary(data_words)\n",
    "# Create Corpus\n",
    "texts = data_words\n",
    "# Term Document Frequency\n",
    "corpus = [id2word.doc2bow(text) for text in texts]\n",
    "# View\n",
    "print(corpus[:1][0][:30])"
   ]
  },
  {
   "cell_type": "code",
   "execution_count": null,
   "id": "cc04e05a",
   "metadata": {},
   "outputs": [],
   "source": [
    "from pprint import pprint\n",
    "out = open('../dostoevsky/topic_data1.txt','w', encoding='utf8')\n",
    "# number of topics\n",
    "num_topics = 200\n",
    "# Build LDA model\n",
    "lda_model = gensim.models.LdaMulticore(corpus=corpus,\n",
    "                                       id2word=id2word,\n",
    "                                       num_topics=num_topics)\n",
    "s = lda_model.print_topics()# Print the Keyword in the 10 topics\n",
    "pprint(s)\n",
    "\n",
    "print(lda_model.print_topics(), file = out)\n",
    "doc_lda = lda_model[corpus]\n"
   ]
  },
  {
   "cell_type": "code",
   "execution_count": null,
   "id": "25d29219",
   "metadata": {},
   "outputs": [],
   "source": []
  },
  {
   "cell_type": "code",
   "execution_count": null,
   "id": "d9d91015",
   "metadata": {},
   "outputs": [],
   "source": [
    "import pyLDAvis.gensim\n",
    "import pickle \n",
    "import pyLDAvis\n",
    "# Visualize the topics\n",
    "pyLDAvis.enable_notebook()\n",
    "LDAvis_data_filepath = os.path.join('./results/ldavis_prepared_'+str(num_topics))\n",
    "# # this is a bit time consuming - make the if statement True\n",
    "# # if you want to execute visualization prep yourself\n",
    "if 1 == 1:\n",
    "    LDAvis_prepared = pyLDAvis.gensim.prepare(lda_model, corpus, id2word)\n",
    "    with open(LDAvis_data_filepath, 'wb') as f:\n",
    "        pickle.dump(LDAvis_prepared, f)\n",
    "# load the pre-prepared pyLDAvis data from disk\n",
    "with open(LDAvis_data_filepath, 'rb') as f:\n",
    "    LDAvis_prepared = pickle.load(f)\n",
    "pyLDAvis.save_html(LDAvis_prepared, './results/ldavis_prepared_'+ str(num_topics) +'.html')\n",
    "LDAvis_prepared"
   ]
  },
  {
   "cell_type": "code",
   "execution_count": null,
   "id": "0ba533aa",
   "metadata": {},
   "outputs": [],
   "source": []
  }
 ],
 "metadata": {
  "kernelspec": {
   "display_name": "Python 3",
   "language": "python",
   "name": "python3"
  },
  "language_info": {
   "codemirror_mode": {
    "name": "ipython",
    "version": 3
   },
   "file_extension": ".py",
   "mimetype": "text/x-python",
   "name": "python",
   "nbconvert_exporter": "python",
   "pygments_lexer": "ipython3",
   "version": "3.8.8"
  }
 },
 "nbformat": 4,
 "nbformat_minor": 5
}
