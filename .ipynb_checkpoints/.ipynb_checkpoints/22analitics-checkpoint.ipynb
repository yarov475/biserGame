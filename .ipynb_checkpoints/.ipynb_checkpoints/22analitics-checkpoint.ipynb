{
 "cells": [
  {
   "cell_type": "code",
   "execution_count": 12,
   "id": "b469a8db",
   "metadata": {},
   "outputs": [],
   "source": [
    "import pandas as pd\n"
   ]
  },
  {
   "cell_type": "code",
   "execution_count": 13,
   "id": "762b26cf",
   "metadata": {},
   "outputs": [],
   "source": [
    "import matplotlib.pyplot as plt"
   ]
  },
  {
   "cell_type": "code",
   "execution_count": 14,
   "id": "f44b438e",
   "metadata": {},
   "outputs": [],
   "source": [
    "from matplotlib import pyplot"
   ]
  },
  {
   "cell_type": "code",
   "execution_count": 23,
   "id": "dc02dae1",
   "metadata": {},
   "outputs": [],
   "source": [
    "all = pd.read_csv('C:/Users/yayar/OneDrive/Documents/текст дисертации Ярочкин/публикации/sonicDataAnalizeYaro/.ipynb_checkpoints/22Data.csv',delimiter=',')"
   ]
  },
  {
   "cell_type": "code",
   "execution_count": null,
   "id": "df67a75c",
   "metadata": {
    "scrolled": true
   },
   "outputs": [],
   "source": [
    "display(all)"
   ]
  },
  {
   "cell_type": "code",
   "execution_count": 24,
   "id": "aa0b111d",
   "metadata": {},
   "outputs": [],
   "source": [
    "tone = pd.read_csv('22DataTone.csv',delimiter=',')"
   ]
  },
  {
   "cell_type": "code",
   "execution_count": 25,
   "id": "4e9c0952",
   "metadata": {},
   "outputs": [
    {
     "data": {
      "text/html": [
       "<div>\n",
       "<style scoped>\n",
       "    .dataframe tbody tr th:only-of-type {\n",
       "        vertical-align: middle;\n",
       "    }\n",
       "\n",
       "    .dataframe tbody tr th {\n",
       "        vertical-align: top;\n",
       "    }\n",
       "\n",
       "    .dataframe thead th {\n",
       "        text-align: right;\n",
       "    }\n",
       "</style>\n",
       "<table border=\"1\" class=\"dataframe\">\n",
       "  <thead>\n",
       "    <tr style=\"text-align: right;\">\n",
       "      <th></th>\n",
       "      <th>id</th>\n",
       "      <th>start</th>\n",
       "      <th>skip</th>\n",
       "      <th>-</th>\n",
       "      <th>0</th>\n",
       "      <th>+</th>\n",
       "    </tr>\n",
       "  </thead>\n",
       "  <tbody>\n",
       "    <tr>\n",
       "      <th>0</th>\n",
       "      <td>2</td>\n",
       "      <td>и вот 22</td>\n",
       "      <td>0.000000</td>\n",
       "      <td>0.000000</td>\n",
       "      <td>0.718604</td>\n",
       "      <td>0.245095</td>\n",
       "    </tr>\n",
       "    <tr>\n",
       "      <th>1</th>\n",
       "      <td>3</td>\n",
       "      <td>Сегодня по радиоСегодня по радио</td>\n",
       "      <td>0.000000</td>\n",
       "      <td>0.000000</td>\n",
       "      <td>0.771854</td>\n",
       "      <td>0.222710</td>\n",
       "    </tr>\n",
       "    <tr>\n",
       "      <th>2</th>\n",
       "      <td>4</td>\n",
       "      <td>На выставке</td>\n",
       "      <td>0.201823</td>\n",
       "      <td>0.492198</td>\n",
       "      <td>0.000000</td>\n",
       "      <td>NaN</td>\n",
       "    </tr>\n",
       "    <tr>\n",
       "      <th>3</th>\n",
       "      <td>5</td>\n",
       "      <td>День ясный</td>\n",
       "      <td>0.000000</td>\n",
       "      <td>0.256842</td>\n",
       "      <td>0.320831</td>\n",
       "      <td>0.000000</td>\n",
       "    </tr>\n",
       "    <tr>\n",
       "      <th>4</th>\n",
       "      <td>6</td>\n",
       "      <td>До СССР</td>\n",
       "      <td>0.000000</td>\n",
       "      <td>0.233716</td>\n",
       "      <td>0.476590</td>\n",
       "      <td>0.000000</td>\n",
       "    </tr>\n",
       "    <tr>\n",
       "      <th>5</th>\n",
       "      <td>7</td>\n",
       "      <td>22</td>\n",
       "      <td>0.000000</td>\n",
       "      <td>0.384922</td>\n",
       "      <td>0.287778</td>\n",
       "      <td>0.000000</td>\n",
       "    </tr>\n",
       "  </tbody>\n",
       "</table>\n",
       "</div>"
      ],
      "text/plain": [
       "   id                             start      skip         -         0  \\\n",
       "0   2                          и вот 22  0.000000  0.000000  0.718604   \n",
       "1   3  Сегодня по радиоСегодня по радио  0.000000  0.000000  0.771854   \n",
       "2   4                       На выставке  0.201823  0.492198  0.000000   \n",
       "3   5                        День ясный  0.000000  0.256842  0.320831   \n",
       "4   6                           До СССР  0.000000  0.233716  0.476590   \n",
       "5   7                                22  0.000000  0.384922  0.287778   \n",
       "\n",
       "          +  \n",
       "0  0.245095  \n",
       "1  0.222710  \n",
       "2       NaN  \n",
       "3  0.000000  \n",
       "4  0.000000  \n",
       "5  0.000000  "
      ]
     },
     "metadata": {},
     "output_type": "display_data"
    }
   ],
   "source": [
    "\n",
    "display(tone)"
   ]
  },
  {
   "cell_type": "code",
   "execution_count": null,
   "id": "4b1e6eff",
   "metadata": {},
   "outputs": [],
   "source": [
    "index = tone[\"+\"]\n",
    "values = tone['-']\n",
    "plt.bar(index,values)\n",
    "plt.show()"
   ]
  },
  {
   "cell_type": "code",
   "execution_count": null,
   "id": "547b50dc",
   "metadata": {},
   "outputs": [],
   "source": [
    "from matplotlib import pyplot\n",
    "\n",
    "pyplot.axis('equal')\n",
    "tone['0'].plot(kind='pie')"
   ]
  },
  {
   "cell_type": "code",
   "execution_count": null,
   "id": "b5f807b1",
   "metadata": {},
   "outputs": [],
   "source": [
    "tone['0'].hist()\n",
    "tone['+'].hist()\n",
    "tone['-'].hist()\n",
    "\n"
   ]
  },
  {
   "cell_type": "code",
   "execution_count": null,
   "id": "cb2546bd",
   "metadata": {},
   "outputs": [],
   "source": [
    "index = tone[\"+\"]\n",
    "values = tone['0']\n",
    "plt.bar(index,values)\n",
    "plt.show()"
   ]
  },
  {
   "cell_type": "code",
   "execution_count": null,
   "id": "540a0651",
   "metadata": {},
   "outputs": [],
   "source": [
    "простая гистограмма до соноризации"
   ]
  },
  {
   "cell_type": "code",
   "execution_count": null,
   "id": "15b8dc37",
   "metadata": {},
   "outputs": [],
   "source": [
    "import os"
   ]
  },
  {
   "cell_type": "code",
   "execution_count": null,
   "id": "eaa94801",
   "metadata": {},
   "outputs": [],
   "source": [
    "os.chdir('..')"
   ]
  },
  {
   "cell_type": "code",
   "execution_count": 26,
   "id": "fea0e7e4",
   "metadata": {},
   "outputs": [],
   "source": [
    "paper =  pd.read_csv('C:/Users/yayar/OneDrive/Documents/текст дисертации Ярочкин/публикации/sonicDataAnalizeYaro/.ipynb_checkpoints/22Data.csv',delimiter=',')"
   ]
  },
  {
   "cell_type": "code",
   "execution_count": 27,
   "id": "2928161b",
   "metadata": {},
   "outputs": [],
   "source": [
    "papper = all[['text']]\n"
   ]
  },
  {
   "cell_type": "code",
   "execution_count": 28,
   "id": "6e7d085e",
   "metadata": {},
   "outputs": [
    {
     "data": {
      "text/html": [
       "<div>\n",
       "<style scoped>\n",
       "    .dataframe tbody tr th:only-of-type {\n",
       "        vertical-align: middle;\n",
       "    }\n",
       "\n",
       "    .dataframe tbody tr th {\n",
       "        vertical-align: top;\n",
       "    }\n",
       "\n",
       "    .dataframe thead th {\n",
       "        text-align: right;\n",
       "    }\n",
       "</style>\n",
       "<table border=\"1\" class=\"dataframe\">\n",
       "  <thead>\n",
       "    <tr style=\"text-align: right;\">\n",
       "      <th></th>\n",
       "      <th>text</th>\n",
       "    </tr>\n",
       "  </thead>\n",
       "  <tbody>\n",
       "    <tr>\n",
       "      <th>0</th>\n",
       "      <td>Евгения Михайловна много лет жила в двухэтажно...</td>\n",
       "    </tr>\n",
       "    <tr>\n",
       "      <th>1</th>\n",
       "      <td>И вот 22 июня, когда меня трясла малярия, вдру...</td>\n",
       "    </tr>\n",
       "    <tr>\n",
       "      <th>2</th>\n",
       "      <td>Сегодня по радио передавали речь Молотова о пе...</td>\n",
       "    </tr>\n",
       "    <tr>\n",
       "      <th>3</th>\n",
       "      <td>День ясный, теплый, солнечный. Однако это уже ...</td>\n",
       "    </tr>\n",
       "    <tr>\n",
       "      <th>4</th>\n",
       "      <td>На выставке нас поразила карта Советского Союз...</td>\n",
       "    </tr>\n",
       "  </tbody>\n",
       "</table>\n",
       "</div>"
      ],
      "text/plain": [
       "                                                text\n",
       "0  Евгения Михайловна много лет жила в двухэтажно...\n",
       "1  И вот 22 июня, когда меня трясла малярия, вдру...\n",
       "2  Сегодня по радио передавали речь Молотова о пе...\n",
       "3  День ясный, теплый, солнечный. Однако это уже ...\n",
       "4  На выставке нас поразила карта Советского Союз..."
      ]
     },
     "execution_count": 28,
     "metadata": {},
     "output_type": "execute_result"
    }
   ],
   "source": [
    "papper.head()\n",
    "\n",
    "\n"
   ]
  },
  {
   "cell_type": "code",
   "execution_count": 43,
   "id": "af29949f",
   "metadata": {},
   "outputs": [
    {
     "name": "stderr",
     "output_type": "stream",
     "text": [
      "C:\\Users\\yayar\\anaconda3\\lib\\site-packages\\ipykernel\\ipkernel.py:287: DeprecationWarning: `should_run_async` will not call `transform_cell` automatically in the future. Please pass the result to `transformed_cell` argument and any exception that happen during thetransform in `preprocessing_exc_tuple` in IPython 7.17 and above.\n",
      "  and should_run_async(code)\n",
      "<>:6: DeprecationWarning: invalid escape sequence \\.\n",
      "<>:6: DeprecationWarning: invalid escape sequence \\.\n",
      "<ipython-input-43-9a5841b66bed>:6: DeprecationWarning: invalid escape sequence \\.\n",
      "  papper['text'].map(lambda x: re.sub('[,\\.!?]', '', x))\n",
      "<ipython-input-43-9a5841b66bed>:5: SettingWithCopyWarning: \n",
      "A value is trying to be set on a copy of a slice from a DataFrame.\n",
      "Try using .loc[row_indexer,col_indexer] = value instead\n",
      "\n",
      "See the caveats in the documentation: https://pandas.pydata.org/pandas-docs/stable/user_guide/indexing.html#returning-a-view-versus-a-copy\n",
      "  papper['text_processed'] = \\\n",
      "<ipython-input-43-9a5841b66bed>:8: SettingWithCopyWarning: \n",
      "A value is trying to be set on a copy of a slice from a DataFrame.\n",
      "Try using .loc[row_indexer,col_indexer] = value instead\n",
      "\n",
      "See the caveats in the documentation: https://pandas.pydata.org/pandas-docs/stable/user_guide/indexing.html#returning-a-view-versus-a-copy\n",
      "  papper['text_processed'] = \\\n"
     ]
    },
    {
     "data": {
      "text/plain": [
       "0    евгения михайловна много лет жила в двухэтажно...\n",
       "1    и вот 22 июня когда меня трясла малярия вдруг ...\n",
       "2    сегодня по радио передавали речь молотова о пе...\n",
       "3    день ясный теплый солнечный однако это уже не ...\n",
       "4    на выставке нас поразила карта советского союз...\n",
       "Name: text_processed, dtype: object"
      ]
     },
     "execution_count": 43,
     "metadata": {},
     "output_type": "execute_result"
    }
   ],
   "source": [
    "import re\n",
    "\n",
    "\n",
    "# Remove punctuation\n",
    "papper['text_processed'] = \\\n",
    "papper['text'].map(lambda x: re.sub('[,\\.!?]', '', x))\n",
    "# Convert the titles to lowercase\n",
    "papper['text_processed'] = \\\n",
    "papper['text_processed'].map(lambda x: x.lower())\n",
    "# Print out the first rows of papers\n",
    "papper['text_processed'].head()"
   ]
  },
  {
   "cell_type": "code",
   "execution_count": null,
   "id": "dcbf5a15",
   "metadata": {},
   "outputs": [],
   "source": []
  },
  {
   "cell_type": "code",
   "execution_count": 30,
   "id": "ad79d9cb",
   "metadata": {},
   "outputs": [
    {
     "data": {
      "image/png": "[encoded data removed]",
      "text/plain": [
       "<PIL.Image.Image image mode=RGB size=400x200 at 0x2603DE1DFD0>"
      ]
     },
     "execution_count": 30,
     "metadata": {},
     "output_type": "execute_result"
    }
   ],
   "source": [
    "# Import the wordcloud library\n",
    "from wordcloud import WordCloud\n",
    "# Join the different processed titles together.\n",
    "long_string = ','.join(list(papper['text_processed'].values))\n",
    "# Create a WordCloud object\n",
    "wordcloud = WordCloud(background_color=\"black\", max_words=5000, contour_width=3, contour_color='steelblue')\n",
    "# Generate a word cloud\n",
    "wordcloud.generate(long_string)\n",
    "# Visualize the word cloud\n",
    "wordcloud.to_image()"
   ]
  },
  {
   "cell_type": "code",
   "execution_count": 42,
   "id": "5ff1450b",
   "metadata": {},
   "outputs": [
    {
     "name": "stderr",
     "output_type": "stream",
     "text": [
      "C:\\Users\\yayar\\anaconda3\\lib\\site-packages\\ipykernel\\ipkernel.py:287: DeprecationWarning: `should_run_async` will not call `transform_cell` automatically in the future. Please pass the result to `transformed_cell` argument and any exception that happen during thetransform in `preprocessing_exc_tuple` in IPython 7.17 and above.\n",
      "  and should_run_async(code)\n",
      "[nltk_data] Downloading package stopwords to\n",
      "[nltk_data]     C:\\Users\\yayar\\AppData\\Roaming\\nltk_data...\n",
      "[nltk_data]   Package stopwords is already up-to-date!\n"
     ]
    }
   ],
   "source": [
    "import gensim\n",
    "from gensim.utils import simple_preprocess\n",
    "import nltk\n",
    "out = open('C:/Users/yayar/OneDrive/Documents/текст дисертации Ярочкин/публикации/sonicDataAnalizeYaro/dostoevsky/dosroevsky_data/row.txt','w', encoding='utf8')\n",
    "nltk.download('stopwords')\n",
    "from nltk.corpus import stopwords\n",
    "stop_words = stopwords.words('russian')\n",
    "stop_words.extend(['в', 'на', 'и', 'не', 'за','b','евгения','михаиловна'])\n",
    "def sent_to_words(sentences):\n",
    "    for sentence in sentences:\n",
    "        # deacc=True removes punctuations\n",
    "        yield(gensim.utils.simple_preprocess(str(sentence), deacc=True))\n",
    "def remove_stopwords(texts):\n",
    "    return [[word for word in simple_preprocess(str(doc)) \n",
    "             if word not in stop_words] for doc in texts]\n",
    "data = papper.text_processed.values.tolist()\n",
    "data_words = list(sent_to_words(data))\n",
    "# remove stop words\n",
    "data_words = remove_stopwords(data_words)\n",
    "print(data_words[:1][0][:30], file=out)\n",
    "\n"
   ]
  },
  {
   "cell_type": "code",
   "execution_count": 32,
   "id": "5ae60be5",
   "metadata": {},
   "outputs": [
    {
     "name": "stdout",
     "output_type": "stream",
     "text": [
      "[(0, 3), (1, 1), (2, 1), (3, 1), (4, 1), (5, 1), (6, 1), (7, 1), (8, 2), (9, 1), (10, 1), (11, 1), (12, 1), (13, 2), (14, 1), (15, 1), (16, 1), (17, 1), (18, 1), (19, 1), (20, 1), (21, 1), (22, 1), (23, 1), (24, 1), (25, 1), (26, 1), (27, 1), (28, 1), (29, 1)]\n"
     ]
    }
   ],
   "source": [
    "import gensim.corpora as corpora\n",
    "# Create Dictionary\n",
    "id2word = corpora.Dictionary(data_words)\n",
    "# Create Corpus\n",
    "texts = data_words\n",
    "# Term Document Frequency\n",
    "corpus = [id2word.doc2bow(text) for text in texts]\n",
    "# View\n",
    "print(corpus[:1][0][:30])"
   ]
  },
  {
   "cell_type": "code",
   "execution_count": 80,
   "id": "cc04e05a",
   "metadata": {},
   "outputs": [
    {
     "name": "stderr",
     "output_type": "stream",
     "text": [
      "C:\\Users\\yayar\\anaconda3\\lib\\site-packages\\ipykernel\\ipkernel.py:287: DeprecationWarning: `should_run_async` will not call `transform_cell` automatically in the future. Please pass the result to `transformed_cell` argument and any exception that happen during thetransform in `preprocessing_exc_tuple` in IPython 7.17 and above.\n",
      "  and should_run_async(code)\n"
     ]
    },
    {
     "name": "stdout",
     "output_type": "stream",
     "text": [
      "[(78,\n",
      "  '0.001*\"магазин\" + 0.001*\"кем\" + 0.001*\"оборот\" + 0.001*\"навстречу\" + '\n",
      "  '0.001*\"нависла\" + 0.001*\"мыльнои\" + 0.001*\"мылся\" + 0.001*\"молча\" + '\n",
      "  '0.001*\"одеваться\" + 0.001*\"костюм\"'),\n",
      " (8,\n",
      "  '0.035*\"молотов\" + 0.024*\"города\" + 0.023*\"выступать\" + 0.013*\"день\" + '\n",
      "  '0.013*\"совершила\" + 0.013*\"скажет\" + 0.013*\"жизнь\" + 0.013*\"отдал\" + '\n",
      "  '0.013*\"слухи\" + 0.013*\"положения\"'),\n",
      " (68,\n",
      "  '0.001*\"магазин\" + 0.001*\"кем\" + 0.001*\"оборот\" + 0.001*\"навстречу\" + '\n",
      "  '0.001*\"нависла\" + 0.001*\"мыльнои\" + 0.001*\"мылся\" + 0.001*\"молча\" + '\n",
      "  '0.001*\"одеваться\" + 0.001*\"костюм\"'),\n",
      " (51,\n",
      "  '0.001*\"магазин\" + 0.001*\"кем\" + 0.001*\"оборот\" + 0.001*\"навстречу\" + '\n",
      "  '0.001*\"нависла\" + 0.001*\"мыльнои\" + 0.001*\"мылся\" + 0.001*\"молча\" + '\n",
      "  '0.001*\"одеваться\" + 0.001*\"костюм\"'),\n",
      " (18,\n",
      "  '0.001*\"магазин\" + 0.001*\"кем\" + 0.001*\"оборот\" + 0.001*\"навстречу\" + '\n",
      "  '0.001*\"нависла\" + 0.001*\"мыльнои\" + 0.001*\"мылся\" + 0.001*\"молча\" + '\n",
      "  '0.001*\"одеваться\" + 0.001*\"костюм\"'),\n",
      " (99,\n",
      "  '0.001*\"магазин\" + 0.001*\"кем\" + 0.001*\"оборот\" + 0.001*\"навстречу\" + '\n",
      "  '0.001*\"нависла\" + 0.001*\"мыльнои\" + 0.001*\"мылся\" + 0.001*\"молча\" + '\n",
      "  '0.001*\"одеваться\" + 0.001*\"костюм\"'),\n",
      " (85,\n",
      "  '0.001*\"сад\" + 0.001*\"дома\" + 0.001*\"саду\" + 0.001*\"девочки\" + '\n",
      "  '0.001*\"ребята\" + 0.001*\"лида\" + 0.001*\"евгении\" + 0.001*\"коллектив\" + '\n",
      "  '0.001*\"девочек\" + 0.001*\"ребятами\"'),\n",
      " (19,\n",
      "  '0.020*\"алксне\" + 0.014*\"мысли\" + 0.013*\"поразила\" + 0.013*\"очень\" + '\n",
      "  '0.012*\"стало\" + 0.012*\"выставке\" + 0.012*\"карта\" + 0.012*\"победе\" + '\n",
      "  '0.012*\"тягостно\" + 0.011*\"москве\"'),\n",
      " (54,\n",
      "  '0.017*\"немцы\" + 0.014*\"наши\" + 0.012*\"воиска\" + 0.009*\"ночь\" + '\n",
      "  '0.009*\"наступление\" + 0.008*\"взяли\" + 0.008*\"июля\" + 0.007*\"весь\" + '\n",
      "  '0.007*\"города\" + 0.007*\"дом\"'),\n",
      " (91,\n",
      "  '0.023*\"вл\" + 0.020*\"костюм\" + 0.019*\"ив\" + 0.016*\"решила\" + 0.016*\"это\" + '\n",
      "  '0.015*\"го\" + 0.013*\"бежали\" + 0.011*\"одевались\" + 0.009*\"соседке\" + '\n",
      "  '0.009*\"план\"'),\n",
      " (43,\n",
      "  '0.001*\"магазин\" + 0.001*\"кем\" + 0.001*\"оборот\" + 0.001*\"навстречу\" + '\n",
      "  '0.001*\"нависла\" + 0.001*\"мыльнои\" + 0.001*\"мылся\" + 0.001*\"молча\" + '\n",
      "  '0.001*\"одеваться\" + 0.001*\"костюм\"'),\n",
      " (71,\n",
      "  '0.016*\"воиска\" + 0.014*\"наши\" + 0.013*\"немцы\" + 0.010*\"взяли\" + '\n",
      "  '0.010*\"наступление\" + 0.009*\"продолжали\" + 0.008*\"ночь\" + 0.008*\"июля\" + '\n",
      "  '0.008*\"весь\" + 0.007*\"стекла\"'),\n",
      " (40,\n",
      "  '0.004*\"теплыи\" + 0.004*\"это\" + 0.004*\"тропическои\" + 0.004*\"самолеты\" + '\n",
      "  '0.003*\"китаискои\" + 0.003*\"палочника\" + 0.003*\"состоялось\" + 0.003*\"однако\" '\n",
      "  '+ 0.003*\"боевое\" + 0.003*\"городом\"'),\n",
      " (64,\n",
      "  '0.001*\"магазин\" + 0.001*\"кем\" + 0.001*\"оборот\" + 0.001*\"навстречу\" + '\n",
      "  '0.001*\"нависла\" + 0.001*\"мыльнои\" + 0.001*\"мылся\" + 0.001*\"молча\" + '\n",
      "  '0.001*\"одеваться\" + 0.001*\"костюм\"'),\n",
      " (21,\n",
      "  '0.001*\"магазин\" + 0.001*\"кем\" + 0.001*\"оборот\" + 0.001*\"навстречу\" + '\n",
      "  '0.001*\"нависла\" + 0.001*\"мыльнои\" + 0.001*\"мылся\" + 0.001*\"молча\" + '\n",
      "  '0.001*\"одеваться\" + 0.001*\"костюм\"'),\n",
      " (84,\n",
      "  '0.009*\"дома\" + 0.005*\"саду\" + 0.005*\"сад\" + 0.004*\"евгении\" + '\n",
      "  '0.004*\"ребята\" + 0.004*\"девочки\" + 0.003*\"рита\" + 0.003*\"свои\" + '\n",
      "  '0.003*\"ребятами\" + 0.003*\"лида\"'),\n",
      " (75,\n",
      "  '0.007*\"дома\" + 0.006*\"сад\" + 0.006*\"саду\" + 0.005*\"ребята\" + '\n",
      "  '0.005*\"евгении\" + 0.005*\"рита\" + 0.004*\"девочки\" + 0.004*\"лида\" + '\n",
      "  '0.004*\"жильцы\" + 0.004*\"свои\"'),\n",
      " (37,\n",
      "  '0.001*\"магазин\" + 0.001*\"кем\" + 0.001*\"оборот\" + 0.001*\"навстречу\" + '\n",
      "  '0.001*\"нависла\" + 0.001*\"мыльнои\" + 0.001*\"мылся\" + 0.001*\"молча\" + '\n",
      "  '0.001*\"одеваться\" + 0.001*\"костюм\"'),\n",
      " (12,\n",
      "  '0.007*\"дома\" + 0.006*\"сад\" + 0.006*\"ребята\" + 0.004*\"девочки\" + '\n",
      "  '0.004*\"евгении\" + 0.004*\"саду\" + 0.003*\"день\" + 0.003*\"дети\" + 0.003*\"рита\" '\n",
      "  '+ 0.003*\"своим\"'),\n",
      " (95,\n",
      "  '0.007*\"ребята\" + 0.006*\"дома\" + 0.006*\"сад\" + 0.005*\"евгении\" + '\n",
      "  '0.005*\"девочки\" + 0.005*\"саду\" + 0.004*\"лида\" + 0.004*\"дети\" + 0.004*\"день\" '\n",
      "  '+ 0.004*\"свои\"')]\n"
     ]
    }
   ],
   "source": [
    "from pprint import pprint\n",
    "out = open('C:/Users/yayar/OneDrive/Documents/текст дисертации Ярочкин/публикации/sonicDataAnalizeYaro/dostoevsky/dosroevsky_data/topic_model_data.txt','w', encoding='utf8')\n",
    "# number of topics\n",
    "num_topics = 1\n",
    "# Build LDA model\n",
    "lda_model = gensim.models.LdaMulticore(corpus=corpus,\n",
    "                                       id2word=id2word,\n",
    "                                       num_topics=num_topics)\n",
    "s = lda_model.print_topics()# Print the Keyword in the 10 topics\n",
    "pprint(s)\n",
    "\n",
    "print(lda_model.print_topics(), file = out)\n",
    "#doc_lda = lda_model[corpus]\n"
   ]
  },
  {
   "cell_type": "code",
   "execution_count": null,
   "id": "25d29219",
   "metadata": {},
   "outputs": [],
   "source": []
  },
  {
   "cell_type": "code",
   "execution_count": 34,
   "id": "d9d91015",
   "metadata": {},
   "outputs": [
    {
     "ename": "ModuleNotFoundError",
     "evalue": "No module named 'pyLDAvis.gensim'",
     "output_type": "error",
     "traceback": [
      "\u001b[1;31m---------------------------------------------------------------------------\u001b[0m",
      "\u001b[1;31mModuleNotFoundError\u001b[0m                       Traceback (most recent call last)",
      "\u001b[1;32m<ipython-input-34-d12e0203a82e>\u001b[0m in \u001b[0;36m<module>\u001b[1;34m\u001b[0m\n\u001b[1;32m----> 1\u001b[1;33m \u001b[1;32mimport\u001b[0m \u001b[0mpyLDAvis\u001b[0m\u001b[1;33m.\u001b[0m\u001b[0mgensim\u001b[0m\u001b[1;33m\u001b[0m\u001b[1;33m\u001b[0m\u001b[0m\n\u001b[0m\u001b[0;32m      2\u001b[0m \u001b[1;32mimport\u001b[0m \u001b[0mpickle\u001b[0m\u001b[1;33m\u001b[0m\u001b[1;33m\u001b[0m\u001b[0m\n\u001b[0;32m      3\u001b[0m \u001b[1;32mimport\u001b[0m \u001b[0mpyLDAvis\u001b[0m\u001b[1;33m\u001b[0m\u001b[1;33m\u001b[0m\u001b[0m\n\u001b[0;32m      4\u001b[0m \u001b[1;31m# Visualize the topics\u001b[0m\u001b[1;33m\u001b[0m\u001b[1;33m\u001b[0m\u001b[1;33m\u001b[0m\u001b[0m\n\u001b[0;32m      5\u001b[0m \u001b[0mpyLDAvis\u001b[0m\u001b[1;33m.\u001b[0m\u001b[0menable_notebook\u001b[0m\u001b[1;33m(\u001b[0m\u001b[1;33m)\u001b[0m\u001b[1;33m\u001b[0m\u001b[1;33m\u001b[0m\u001b[0m\n",
      "\u001b[1;31mModuleNotFoundError\u001b[0m: No module named 'pyLDAvis.gensim'"
     ]
    }
   ],
   "source": [
    "import pyLDAvis.gensim\n",
    "import pickle \n",
    "import pyLDAvis\n",
    "# Visualize the topics\n",
    "pyLDAvis.enable_notebook()\n",
    "LDAvis_data_filepath = os.path.join('./results/ldavis_prepared_'+str(num_topics))\n",
    "# # this is a bit time consuming - make the if statement True\n",
    "# # if you want to execute visualization prep yourself\n",
    "if 1 == 1:\n",
    "    LDAvis_prepared = pyLDAvis.gensim.prepare(lda_model, corpus, id2word)\n",
    "    with open(LDAvis_data_filepath, 'wb') as f:\n",
    "        pickle.dump(LDAvis_prepared, f)\n",
    "# load the pre-prepared pyLDAvis data from disk\n",
    "with open(LDAvis_data_filepath, 'rb') as f:\n",
    "    LDAvis_prepared = pickle.load(f)\n",
    "pyLDAvis.save_html(LDAvis_prepared, './results/ldavis_prepared_'+ str(num_topics) +'.html')\n",
    "LDAvis_prepared"
   ]
  }
 ],
 "metadata": {
  "kernelspec": {
   "display_name": "Python 3",
   "language": "python",
   "name": "python3"
  },
  "language_info": {
   "codemirror_mode": {
    "name": "ipython",
    "version": 3
   },
   "file_extension": ".py",
   "mimetype": "text/x-python",
   "name": "python",
   "nbconvert_exporter": "python",
   "pygments_lexer": "ipython3",
   "version": "3.8.8"
  }
 },
 "nbformat": 4,
 "nbformat_minor": 5
}
