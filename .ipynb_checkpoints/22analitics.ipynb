{
 "cells": [
  {
   "cell_type": "code",
   "execution_count": 5,
   "id": "b469a8db",
   "metadata": {
    "pycharm": {
     "is_executing": true
    }
   },
   "outputs": [],
   "source": [
    "import pandas as pd\n"
   ]
  },
  {
   "cell_type": "code",
   "execution_count": 6,
   "id": "762b26cf",
   "metadata": {
    "pycharm": {
     "is_executing": true
    }
   },
   "outputs": [],
   "source": [
    "import matplotlib.pyplot as plt"
   ]
  },
  {
   "cell_type": "code",
   "execution_count": 7,
   "id": "f44b438e",
   "metadata": {
    "pycharm": {
     "is_executing": true
    }
   },
   "outputs": [],
   "source": [
    "from matplotlib import pyplot"
   ]
  },
  {
   "cell_type": "code",
   "execution_count": 9,
   "id": "dc02dae1",
   "metadata": {
    "pycharm": {
     "is_executing": true
    }
   },
   "outputs": [],
   "source": [
    "all = pd.read_csv('22Data.csv',delimiter=',')"
   ]
  },
  {
   "cell_type": "code",
   "execution_count": 10,
   "id": "df67a75c",
   "metadata": {
    "pycharm": {
     "is_executing": true
    },
    "scrolled": true
   },
   "outputs": [
    {
     "data": {
      "text/html": [
       "<div>\n",
       "<style scoped>\n",
       "    .dataframe tbody tr th:only-of-type {\n",
       "        vertical-align: middle;\n",
       "    }\n",
       "\n",
       "    .dataframe tbody tr th {\n",
       "        vertical-align: top;\n",
       "    }\n",
       "\n",
       "    .dataframe thead th {\n",
       "        text-align: right;\n",
       "    }\n",
       "</style>\n",
       "<table border=\"1\" class=\"dataframe\">\n",
       "  <thead>\n",
       "    <tr style=\"text-align: right;\">\n",
       "      <th></th>\n",
       "      <th>id</th>\n",
       "      <th>name</th>\n",
       "      <th>age</th>\n",
       "      <th>sex</th>\n",
       "      <th>link</th>\n",
       "      <th>text</th>\n",
       "    </tr>\n",
       "  </thead>\n",
       "  <tbody>\n",
       "    <tr>\n",
       "      <th>0</th>\n",
       "      <td>1</td>\n",
       "      <td>Ольга Матюшина</td>\n",
       "      <td>56</td>\n",
       "      <td>f</td>\n",
       "      <td>https://prozhito.org/note/448077</td>\n",
       "      <td>Евгения Михайловна много лет жила в двухэтажно...</td>\n",
       "    </tr>\n",
       "    <tr>\n",
       "      <th>1</th>\n",
       "      <td>2</td>\n",
       "      <td>Иван Савиков</td>\n",
       "      <td>38</td>\n",
       "      <td>m</td>\n",
       "      <td>https://prozhito.org/note/451514</td>\n",
       "      <td>И вот 22 июня, когда меня трясла малярия, вдру...</td>\n",
       "    </tr>\n",
       "    <tr>\n",
       "      <th>2</th>\n",
       "      <td>3</td>\n",
       "      <td>Лев Пашерстник</td>\n",
       "      <td>16</td>\n",
       "      <td>m</td>\n",
       "      <td>https://prozhito.org/note/453306https://prozhi...</td>\n",
       "      <td>Сегодня по радио передавали речь Молотова о пе...</td>\n",
       "    </tr>\n",
       "    <tr>\n",
       "      <th>3</th>\n",
       "      <td>4</td>\n",
       "      <td>Андрей Батуев</td>\n",
       "      <td>33</td>\n",
       "      <td>m</td>\n",
       "      <td>https://prozhito.org/note/453408https://prozhi...</td>\n",
       "      <td>День ясный, теплый, солнечный. Однако это уже ...</td>\n",
       "    </tr>\n",
       "    <tr>\n",
       "      <th>4</th>\n",
       "      <td>5</td>\n",
       "      <td>Янис Гринвалдс</td>\n",
       "      <td>44</td>\n",
       "      <td>m</td>\n",
       "      <td>https://prozhito.org/note/461521</td>\n",
       "      <td>На выставке нас поразила карта Советского Союз...</td>\n",
       "    </tr>\n",
       "    <tr>\n",
       "      <th>5</th>\n",
       "      <td>6</td>\n",
       "      <td>Василий Леонтьев</td>\n",
       "      <td>16</td>\n",
       "      <td>m</td>\n",
       "      <td>https://prozhito.org/note/461628</td>\n",
       "      <td>До этого дня много купались. Уже все загорели....</td>\n",
       "    </tr>\n",
       "    <tr>\n",
       "      <th>6</th>\n",
       "      <td>7</td>\n",
       "      <td>Елизавета Турнас</td>\n",
       "      <td>27 лет</td>\n",
       "      <td>f</td>\n",
       "      <td>https://prozhito.org/note/463884</td>\n",
       "      <td>22-го июня с утра пошли с сыном в баню, Вл. Ив...</td>\n",
       "    </tr>\n",
       "    <tr>\n",
       "      <th>7</th>\n",
       "      <td>8</td>\n",
       "      <td>Наталия Колесникова</td>\n",
       "      <td>undefined</td>\n",
       "      <td>f</td>\n",
       "      <td>https://prozhito.org/note/466637</td>\n",
       "      <td>Воскресенье. В ночь с 21 июля на 22 была перва...</td>\n",
       "    </tr>\n",
       "    <tr>\n",
       "      <th>8</th>\n",
       "      <td>9</td>\n",
       "      <td>АлександраЗагорская</td>\n",
       "      <td>undefined</td>\n",
       "      <td>f</td>\n",
       "      <td>https://prozhito.org/note/466717</td>\n",
       "      <td>Началась война с немецкими фашистами. Помню, к...</td>\n",
       "    </tr>\n",
       "    <tr>\n",
       "      <th>9</th>\n",
       "      <td>10</td>\n",
       "      <td>Александр Резяпкин</td>\n",
       "      <td>32</td>\n",
       "      <td>m</td>\n",
       "      <td>https://prozhito.org/note/467550</td>\n",
       "      <td>Как только Молотов окончил свою речь, капитан ...</td>\n",
       "    </tr>\n",
       "  </tbody>\n",
       "</table>\n",
       "</div>"
      ],
      "text/plain": [
       "   id                 name        age sex  \\\n",
       "0   1       Ольга Матюшина         56   f   \n",
       "1   2         Иван Савиков         38   m   \n",
       "2   3       Лев Пашерстник         16   m   \n",
       "3   4        Андрей Батуев         33   m   \n",
       "4   5       Янис Гринвалдс         44   m   \n",
       "5   6     Василий Леонтьев         16   m   \n",
       "6   7     Елизавета Турнас     27 лет   f   \n",
       "7   8  Наталия Колесникова  undefined   f   \n",
       "8   9  АлександраЗагорская  undefined   f   \n",
       "9  10   Александр Резяпкин         32   m   \n",
       "\n",
       "                                                link  \\\n",
       "0                   https://prozhito.org/note/448077   \n",
       "1                   https://prozhito.org/note/451514   \n",
       "2  https://prozhito.org/note/453306https://prozhi...   \n",
       "3  https://prozhito.org/note/453408https://prozhi...   \n",
       "4                   https://prozhito.org/note/461521   \n",
       "5                   https://prozhito.org/note/461628   \n",
       "6                   https://prozhito.org/note/463884   \n",
       "7                   https://prozhito.org/note/466637   \n",
       "8                   https://prozhito.org/note/466717   \n",
       "9                   https://prozhito.org/note/467550   \n",
       "\n",
       "                                                text  \n",
       "0  Евгения Михайловна много лет жила в двухэтажно...  \n",
       "1  И вот 22 июня, когда меня трясла малярия, вдру...  \n",
       "2  Сегодня по радио передавали речь Молотова о пе...  \n",
       "3  День ясный, теплый, солнечный. Однако это уже ...  \n",
       "4  На выставке нас поразила карта Советского Союз...  \n",
       "5  До этого дня много купались. Уже все загорели....  \n",
       "6  22-го июня с утра пошли с сыном в баню, Вл. Ив...  \n",
       "7  Воскресенье. В ночь с 21 июля на 22 была перва...  \n",
       "8  Началась война с немецкими фашистами. Помню, к...  \n",
       "9  Как только Молотов окончил свою речь, капитан ...  "
      ]
     },
     "metadata": {},
     "output_type": "display_data"
    }
   ],
   "source": [
    "display(all)"
   ]
  },
  {
   "cell_type": "code",
   "execution_count": null,
   "id": "aa0b111d",
   "metadata": {
    "pycharm": {
     "is_executing": true
    }
   },
   "outputs": [],
   "source": [
    "tone =  pd.read_csv('/22Data.csv',delimiter=',')"
   ]
  },
  {
   "cell_type": "code",
   "execution_count": null,
   "id": "4e9c0952",
   "metadata": {
    "pycharm": {
     "is_executing": true
    }
   },
   "outputs": [],
   "source": [
    "\n",
    "display(tone)\n"
   ]
  },
  {
   "cell_type": "code",
   "execution_count": null,
   "id": "4b1e6eff",
   "metadata": {
    "pycharm": {
     "is_executing": true
    }
   },
   "outputs": [],
   "source": [
    "index = tone[\"+\"]\n",
    "values = tone['-']\n",
    "plt.bar(index,values)\n",
    "plt.show()"
   ]
  },
  {
   "cell_type": "code",
   "execution_count": null,
   "id": "547b50dc",
   "metadata": {
    "pycharm": {
     "is_executing": true
    }
   },
   "outputs": [],
   "source": [
    "\n",
    "pyplot.axis('equal')\n",
    "tone['0'].plot(kind='pie')from matplotlib import pyplot\n"
   ]
  },
  {
   "cell_type": "code",
   "execution_count": null,
   "id": "b5f807b1",
   "metadata": {
    "pycharm": {
     "is_executing": true
    }
   },
   "outputs": [],
   "source": [
    "tone['0'].hist()\n",
    "tone['+'].hist()\n",
    "tone['-'].hist()\n",
    "\n"
   ]
  },
  {
   "cell_type": "code",
   "execution_count": null,
   "id": "cb2546bd",
   "metadata": {
    "pycharm": {
     "is_executing": true
    }
   },
   "outputs": [],
   "source": [
    "index = tone[\"+\"]\n",
    "values = tone['0']\n",
    "plt.bar(index,values)\n",
    "plt.show()"
   ]
  },
  {
   "cell_type": "code",
   "execution_count": null,
   "id": "540a0651",
   "metadata": {
    "pycharm": {
     "is_executing": true
    }
   },
   "outputs": [],
   "source": [
    "простая гистограмма до соноризации"
   ]
  },
  {
   "cell_type": "code",
   "execution_count": null,
   "id": "15b8dc37",
   "metadata": {
    "pycharm": {
     "is_executing": true
    }
   },
   "outputs": [],
   "source": [
    "import os"
   ]
  },
  {
   "cell_type": "code",
   "execution_count": null,
   "id": "eaa94801",
   "metadata": {
    "pycharm": {
     "is_executing": true
    }
   },
   "outputs": [],
   "source": [
    "os.chdir('..')\n"
   ]
  },
  {
   "cell_type": "code",
   "execution_count": 11,
   "id": "fea0e7e4",
   "metadata": {
    "pycharm": {
     "is_executing": true
    }
   },
   "outputs": [],
   "source": [
    "paper =  pd.read_csv('22Data.csv',delimiter=',')"
   ]
  },
  {
   "cell_type": "code",
   "execution_count": 12,
   "id": "2928161b",
   "metadata": {
    "pycharm": {
     "is_executing": true
    }
   },
   "outputs": [],
   "source": [
    "papper = all[['text']]\n"
   ]
  },
  {
   "cell_type": "code",
   "execution_count": 13,
   "id": "6e7d085e",
   "metadata": {
    "pycharm": {
     "is_executing": true
    }
   },
   "outputs": [
    {
     "data": {
      "text/html": [
       "<div>\n",
       "<style scoped>\n",
       "    .dataframe tbody tr th:only-of-type {\n",
       "        vertical-align: middle;\n",
       "    }\n",
       "\n",
       "    .dataframe tbody tr th {\n",
       "        vertical-align: top;\n",
       "    }\n",
       "\n",
       "    .dataframe thead th {\n",
       "        text-align: right;\n",
       "    }\n",
       "</style>\n",
       "<table border=\"1\" class=\"dataframe\">\n",
       "  <thead>\n",
       "    <tr style=\"text-align: right;\">\n",
       "      <th></th>\n",
       "      <th>text</th>\n",
       "    </tr>\n",
       "  </thead>\n",
       "  <tbody>\n",
       "    <tr>\n",
       "      <th>0</th>\n",
       "      <td>Евгения Михайловна много лет жила в двухэтажно...</td>\n",
       "    </tr>\n",
       "    <tr>\n",
       "      <th>1</th>\n",
       "      <td>И вот 22 июня, когда меня трясла малярия, вдру...</td>\n",
       "    </tr>\n",
       "    <tr>\n",
       "      <th>2</th>\n",
       "      <td>Сегодня по радио передавали речь Молотова о пе...</td>\n",
       "    </tr>\n",
       "    <tr>\n",
       "      <th>3</th>\n",
       "      <td>День ясный, теплый, солнечный. Однако это уже ...</td>\n",
       "    </tr>\n",
       "    <tr>\n",
       "      <th>4</th>\n",
       "      <td>На выставке нас поразила карта Советского Союз...</td>\n",
       "    </tr>\n",
       "  </tbody>\n",
       "</table>\n",
       "</div>"
      ],
      "text/plain": [
       "                                                text\n",
       "0  Евгения Михайловна много лет жила в двухэтажно...\n",
       "1  И вот 22 июня, когда меня трясла малярия, вдру...\n",
       "2  Сегодня по радио передавали речь Молотова о пе...\n",
       "3  День ясный, теплый, солнечный. Однако это уже ...\n",
       "4  На выставке нас поразила карта Советского Союз..."
      ]
     },
     "execution_count": 13,
     "metadata": {},
     "output_type": "execute_result"
    }
   ],
   "source": [
    "papper.head()\n",
    "\n",
    "\n"
   ]
  },
  {
   "cell_type": "code",
   "execution_count": 14,
   "id": "af29949f",
   "metadata": {
    "pycharm": {
     "is_executing": true
    }
   },
   "outputs": [
    {
     "name": "stderr",
     "output_type": "stream",
     "text": [
      "<ipython-input-14-9a5841b66bed>:5: SettingWithCopyWarning: \n",
      "A value is trying to be set on a copy of a slice from a DataFrame.\n",
      "Try using .loc[row_indexer,col_indexer] = value instead\n",
      "\n",
      "See the caveats in the documentation: https://pandas.pydata.org/pandas-docs/stable/user_guide/indexing.html#returning-a-view-versus-a-copy\n",
      "  papper['text_processed'] = \\\n",
      "<ipython-input-14-9a5841b66bed>:8: SettingWithCopyWarning: \n",
      "A value is trying to be set on a copy of a slice from a DataFrame.\n",
      "Try using .loc[row_indexer,col_indexer] = value instead\n",
      "\n",
      "See the caveats in the documentation: https://pandas.pydata.org/pandas-docs/stable/user_guide/indexing.html#returning-a-view-versus-a-copy\n",
      "  papper['text_processed'] = \\\n"
     ]
    },
    {
     "data": {
      "text/plain": [
       "0    евгения михайловна много лет жила в двухэтажно...\n",
       "1    и вот 22 июня когда меня трясла малярия вдруг ...\n",
       "2    сегодня по радио передавали речь молотова о пе...\n",
       "3    день ясный теплый солнечный однако это уже не ...\n",
       "4    на выставке нас поразила карта советского союз...\n",
       "Name: text_processed, dtype: object"
      ]
     },
     "execution_count": 14,
     "metadata": {},
     "output_type": "execute_result"
    }
   ],
   "source": [
    "import re\n",
    "\n",
    "\n",
    "# Remove punctuation\n",
    "papper['text_processed'] = \\\n",
    "papper['text'].map(lambda x: re.sub('[,\\.!?]', '', x))\n",
    "# Convert the titles to lowercase\n",
    "papper['text_processed'] = \\\n",
    "papper['text_processed'].map(lambda x: x.lower())\n",
    "# Print out the first rows of papers\n",
    "papper['text_processed'].head()"
   ]
  },
  {
   "cell_type": "code",
   "execution_count": null,
   "id": "dcbf5a15",
   "metadata": {
    "pycharm": {
     "is_executing": true
    }
   },
   "outputs": [],
   "source": []
  },
  {
   "cell_type": "code",
   "execution_count": 15,
   "id": "ad79d9cb",
   "metadata": {
    "pycharm": {
     "is_executing": true
    }
   },
   "outputs": [
    {
     "data": {
      "image/png": "[encoded data removed]",
      "text/plain": [
       "<PIL.Image.Image image mode=RGB size=400x200 at 0x22293364460>"
      ]
     },
     "execution_count": 15,
     "metadata": {},
     "output_type": "execute_result"
    }
   ],
   "source": [
    "# Import the wordcloud library\n",
    "from wordcloud import WordCloud\n",
    "# Join the different processed titles together.\n",
    "long_string = ','.join(list(papper['text_processed'].values))\n",
    "# Create a WordCloud object\n",
    "wordcloud = WordCloud(background_color=\"black\", max_words=5000, contour_width=3, contour_color='steelblue')\n",
    "# Generate a word cloud\n",
    "wordcloud.generate(long_string)\n",
    "# Visualize the word cloud\n",
    "wordcloud.to_image()"
   ]
  },
  {
   "cell_type": "code",
   "execution_count": 16,
   "id": "5ff1450b",
   "metadata": {
    "pycharm": {
     "is_executing": true
    }
   },
   "outputs": [
    {
     "name": "stderr",
     "output_type": "stream",
     "text": [
      "[nltk_data] Downloading package stopwords to\n",
      "[nltk_data]     C:\\Users\\yayar\\AppData\\Roaming\\nltk_data...\n",
      "[nltk_data]   Package stopwords is already up-to-date!\n"
     ]
    },
    {
     "name": "stdout",
     "output_type": "stream",
     "text": [
      "['лет', 'жила', 'двухэтажном', 'деревянном', 'домике', 'занимала', 'квартиру', 'комнаты', 'дом', 'старинныи', 'низкими', 'потолками', 'порогами', 'большими', 'окнами', 'квартир', 'доме', 'четыре', 'жильцы', 'жили', 'лет', 'знали', 'друг', 'друга', 'пять', 'днеи', 'воины', 'поредело', 'население', 'дома']\n"
     ]
    }
   ],
   "source": [
    "import gensim\n",
    "from gensim.utils import simple_preprocess\n",
    "import nltk\n",
    "out = open('C:/Users/yayar/OneDrive/Documents/текст дисертации Ярочкин/публикации/sonicDataAnalizeYaro/dostoevsky/dosroevsky_data/row.txt','w', encoding='utf8')\n",
    "nltk.download('stopwords')\n",
    "from nltk.corpus import stopwords\n",
    "stop_words = stopwords.words('russian')\n",
    "stop_words.extend(['в', 'на', 'и', 'не', 'за','b','евгения','михаиловна'])\n",
    "def sent_to_words(sentences):\n",
    "    for sentence in sentences:\n",
    "        # deacc=True removes punctuations\n",
    "        yield(gensim.utils.simple_preprocess(str(sentence), deacc=True))\n",
    "def remove_stopwords(texts):\n",
    "    return [[word for word in simple_preprocess(str(doc)) \n",
    "             if word not in stop_words] for doc in texts]\n",
    "data = papper.text_processed.values.tolist()\n",
    "data_words = list(sent_to_words(data))\n",
    "# remove stop words\n",
    "data_words = remove_stopwords(data_words)\n",
    "print(data_words[:1][0][:30])\n",
    "\n"
   ]
  },
  {
   "cell_type": "code",
   "execution_count": 17,
   "id": "5ae60be5",
   "metadata": {
    "pycharm": {
     "is_executing": true
    }
   },
   "outputs": [
    {
     "name": "stdout",
     "output_type": "stream",
     "text": [
      "[(0, 3), (1, 1), (2, 1), (3, 1), (4, 1), (5, 1), (6, 1), (7, 1), (8, 2), (9, 1), (10, 1), (11, 1), (12, 1), (13, 2), (14, 1), (15, 1), (16, 1), (17, 1), (18, 1), (19, 1), (20, 1), (21, 1), (22, 1), (23, 1), (24, 1), (25, 1), (26, 1), (27, 1), (28, 1), (29, 1)]\n"
     ]
    }
   ],
   "source": [
    "import gensim.corpora as corpora\n",
    "# Create Dictionary\n",
    "id2word = corpora.Dictionary(data_words)\n",
    "# Create Corpus\n",
    "texts = data_words\n",
    "# Term Document Frequency\n",
    "corpus = [id2word.doc2bow(text) for text in texts]\n",
    "# View\n",
    "print(corpus[:1][0][:30])"
   ]
  },
  {
   "cell_type": "code",
   "execution_count": 20,
   "id": "cc04e05a",
   "metadata": {
    "pycharm": {
     "is_executing": true
    }
   },
   "outputs": [
    {
     "name": "stdout",
     "output_type": "stream",
     "text": [
      "[(145,\n",
      "  '0.022*\"наши\" + 0.019*\"немцы\" + 0.015*\"воиска\" + 0.014*\"наступление\" + '\n",
      "  '0.012*\"взяли\" + 0.011*\"нашем\" + 0.011*\"продолжали\" + 0.011*\"ночь\" + '\n",
      "  '0.010*\"направлении\" + 0.010*\"весь\"'),\n",
      " (60,\n",
      "  '0.014*\"утра\" + 0.012*\"миша\" + 0.011*\"это\" + 0.010*\"нашу\" + 0.010*\"сразу\" + '\n",
      "  '0.010*\"родину\" + 0.010*\"люди\" + 0.010*\"спешили\" + 0.009*\"ночи\" + '\n",
      "  '0.009*\"началась\"'),\n",
      " (35,\n",
      "  '0.001*\"магазин\" + 0.001*\"кем\" + 0.001*\"оборот\" + 0.001*\"навстречу\" + '\n",
      "  '0.001*\"нависла\" + 0.001*\"мыльнои\" + 0.001*\"мылся\" + 0.001*\"молча\" + '\n",
      "  '0.001*\"одеваться\" + 0.001*\"костюм\"'),\n",
      " (118,\n",
      "  '0.001*\"магазин\" + 0.001*\"кем\" + 0.001*\"оборот\" + 0.001*\"навстречу\" + '\n",
      "  '0.001*\"нависла\" + 0.001*\"мыльнои\" + 0.001*\"мылся\" + 0.001*\"молча\" + '\n",
      "  '0.001*\"одеваться\" + 0.001*\"костюм\"'),\n",
      " (121,\n",
      "  '0.001*\"магазин\" + 0.001*\"кем\" + 0.001*\"оборот\" + 0.001*\"навстречу\" + '\n",
      "  '0.001*\"нависла\" + 0.001*\"мыльнои\" + 0.001*\"мылся\" + 0.001*\"молча\" + '\n",
      "  '0.001*\"одеваться\" + 0.001*\"костюм\"'),\n",
      " (193,\n",
      "  '0.001*\"магазин\" + 0.001*\"кем\" + 0.001*\"оборот\" + 0.001*\"навстречу\" + '\n",
      "  '0.001*\"нависла\" + 0.001*\"мыльнои\" + 0.001*\"мылся\" + 0.001*\"молча\" + '\n",
      "  '0.001*\"одеваться\" + 0.001*\"костюм\"'),\n",
      " (114,\n",
      "  '0.001*\"магазин\" + 0.001*\"кем\" + 0.001*\"оборот\" + 0.001*\"навстречу\" + '\n",
      "  '0.001*\"нависла\" + 0.001*\"мыльнои\" + 0.001*\"мылся\" + 0.001*\"молча\" + '\n",
      "  '0.001*\"одеваться\" + 0.001*\"костюм\"'),\n",
      " (105,\n",
      "  '0.001*\"магазин\" + 0.001*\"кем\" + 0.001*\"оборот\" + 0.001*\"навстречу\" + '\n",
      "  '0.001*\"нависла\" + 0.001*\"мыльнои\" + 0.001*\"мылся\" + 0.001*\"молча\" + '\n",
      "  '0.001*\"одеваться\" + 0.001*\"костюм\"'),\n",
      " (124,\n",
      "  '0.025*\"молотов\" + 0.021*\"сегодня\" + 0.021*\"ссср\" + 0.020*\"день\" + '\n",
      "  '0.020*\"радио\" + 0.017*\"города\" + 0.017*\"выступать\" + 0.012*\"повесть\" + '\n",
      "  '0.012*\"ими\" + 0.012*\"речь\"'),\n",
      " (140,\n",
      "  '0.001*\"магазин\" + 0.001*\"кем\" + 0.001*\"оборот\" + 0.001*\"навстречу\" + '\n",
      "  '0.001*\"нависла\" + 0.001*\"мыльнои\" + 0.001*\"мылся\" + 0.001*\"молча\" + '\n",
      "  '0.001*\"одеваться\" + 0.001*\"костюм\"'),\n",
      " (45,\n",
      "  '0.029*\"алксне\" + 0.015*\"борьба\" + 0.015*\"скорои\" + 0.015*\"сопровождающая\" + '\n",
      "  '0.015*\"ликвидированы\" + 0.014*\"стало\" + 0.014*\"напала\" + 0.014*\"грозит\" + '\n",
      "  '0.014*\"победим\" + 0.014*\"германия\"'),\n",
      " (138,\n",
      "  '0.001*\"магазин\" + 0.001*\"кем\" + 0.001*\"оборот\" + 0.001*\"навстречу\" + '\n",
      "  '0.001*\"нависла\" + 0.001*\"мыльнои\" + 0.001*\"мылся\" + 0.001*\"молча\" + '\n",
      "  '0.001*\"одеваться\" + 0.001*\"костюм\"'),\n",
      " (130,\n",
      "  '0.001*\"магазин\" + 0.001*\"кем\" + 0.001*\"оборот\" + 0.001*\"навстречу\" + '\n",
      "  '0.001*\"нависла\" + 0.001*\"мыльнои\" + 0.001*\"мылся\" + 0.001*\"молча\" + '\n",
      "  '0.001*\"одеваться\" + 0.001*\"костюм\"'),\n",
      " (19,\n",
      "  '0.001*\"дома\" + 0.001*\"сад\" + 0.001*\"ребята\" + 0.001*\"саду\" + 0.001*\"лида\" + '\n",
      "  '0.001*\"девочки\" + 0.001*\"евгении\" + 0.001*\"детеи\" + 0.001*\"год\" + '\n",
      "  '0.001*\"михаиловны\"'),\n",
      " (149,\n",
      "  '0.024*\"наши\" + 0.021*\"воиска\" + 0.012*\"наступление\" + 0.012*\"ночь\" + '\n",
      "  '0.012*\"немцы\" + 0.011*\"взяли\" + 0.010*\"города\" + 0.009*\"продолжали\" + '\n",
      "  '0.009*\"направлении\" + 0.009*\"весь\"'),\n",
      " (55,\n",
      "  '0.001*\"магазин\" + 0.001*\"кем\" + 0.001*\"оборот\" + 0.001*\"навстречу\" + '\n",
      "  '0.001*\"нависла\" + 0.001*\"мыльнои\" + 0.001*\"мылся\" + 0.001*\"молча\" + '\n",
      "  '0.001*\"одеваться\" + 0.001*\"костюм\"'),\n",
      " (122,\n",
      "  '0.001*\"магазин\" + 0.001*\"кем\" + 0.001*\"оборот\" + 0.001*\"навстречу\" + '\n",
      "  '0.001*\"нависла\" + 0.001*\"мыльнои\" + 0.001*\"мылся\" + 0.001*\"молча\" + '\n",
      "  '0.001*\"одеваться\" + 0.001*\"костюм\"'),\n",
      " (67,\n",
      "  '0.001*\"магазин\" + 0.001*\"кем\" + 0.001*\"оборот\" + 0.001*\"навстречу\" + '\n",
      "  '0.001*\"нависла\" + 0.001*\"мыльнои\" + 0.001*\"мылся\" + 0.001*\"молча\" + '\n",
      "  '0.001*\"одеваться\" + 0.001*\"костюм\"'),\n",
      " (85,\n",
      "  '0.024*\"молотов\" + 0.020*\"выступать\" + 0.016*\"города\" + 0.013*\"которыи\" + '\n",
      "  '0.012*\"попили\" + 0.011*\"германия\" + 0.011*\"моложе\" + 0.011*\"чувство\" + '\n",
      "  '0.011*\"совершила\" + 0.011*\"поити\"'),\n",
      " (2,\n",
      "  '0.019*\"наши\" + 0.017*\"немцы\" + 0.016*\"воиска\" + 0.011*\"ночь\" + '\n",
      "  '0.010*\"продолжали\" + 0.009*\"города\" + 0.009*\"июля\" + 0.008*\"взяли\" + '\n",
      "  '0.008*\"наступление\" + 0.008*\"весь\"')]\n"
     ]
    }
   ],
   "source": [
    "from pprint import pprint\n",
    "out = open('../dostoevsky/topic_data1.txt','w', encoding='utf8')\n",
    "# number of topics\n",
    "num_topics = 200\n",
    "# Build LDA model\n",
    "lda_model = gensim.models.LdaMulticore(corpus=corpus,\n",
    "                                       id2word=id2word,\n",
    "                                       num_topics=num_topics)\n",
    "s = lda_model.print_topics()# Print the Keyword in the 10 topics\n",
    "pprint(s)\n",
    "\n",
    "print(lda_model.print_topics(), file = out)\n",
    "doc_lda = lda_model[corpus]\n"
   ]
  },
  {
   "cell_type": "code",
   "execution_count": null,
   "id": "25d29219",
   "metadata": {
    "pycharm": {
     "is_executing": true
    }
   },
   "outputs": [],
   "source": []
  },
  {
   "cell_type": "code",
   "execution_count": null,
   "id": "d9d91015",
   "metadata": {
    "pycharm": {
     "is_executing": true
    }
   },
   "outputs": [],
   "source": [
    "import pyLDAvis.gensim\n",
    "import pickle \n",
    "import pyLDAvis\n",
    "# Visualize the topics\n",
    "pyLDAvis.enable_notebook()\n",
    "LDAvis_data_filepath = os.path.join('./results/ldavis_prepared_'+str(num_topics))\n",
    "# # this is a bit time consuming - make the if statement True\n",
    "# # if you want to execute visualization prep yourself\n",
    "if 1 == 1:\n",
    "    LDAvis_prepared = pyLDAvis.gensim.prepare(lda_model, corpus, id2word)\n",
    "    with open(LDAvis_data_filepath, 'wb') as f:\n",
    "        pickle.dump(LDAvis_prepared, f)\n",
    "# load the pre-prepared pyLDAvis data from disk\n",
    "with open(LDAvis_data_filepath, 'rb') as f:\n",
    "    LDAvis_prepared = pickle.load(f)\n",
    "pyLDAvis.save_html(LDAvis_prepared, './results/ldavis_prepared_'+ str(num_topics) +'.html')\n",
    "LDAvis_prepared"
   ]
  },
  {
   "cell_type": "code",
   "execution_count": null,
   "id": "0ba533aa",
   "metadata": {
    "pycharm": {
     "is_executing": true
    }
   },
   "outputs": [],
   "source": []
  }
 ],
 "metadata": {
  "kernelspec": {
   "display_name": "Python 3",
   "language": "python",
   "name": "python3"
  },
  "language_info": {
   "codemirror_mode": {
    "name": "ipython",
    "version": 3
   },
   "file_extension": ".py",
   "mimetype": "text/x-python",
   "name": "python",
   "nbconvert_exporter": "python",
   "pygments_lexer": "ipython3",
   "version": "3.8.8"
  }
 },
 "nbformat": 4,
 "nbformat_minor": 5
}