{
 "cells": [
  {
   "cell_type": "code",
   "execution_count": 15,
   "id": "b469a8db",
   "metadata": {},
   "outputs": [],
   "source": [
    "import pandas as pd\n"
   ]
  },
  {
   "cell_type": "code",
   "execution_count": 16,
   "id": "762b26cf",
   "metadata": {},
   "outputs": [],
   "source": [
    "import matplotlib.pyplot as plt"
   ]
  },
  {
   "cell_type": "code",
   "execution_count": 17,
   "id": "f44b438e",
   "metadata": {},
   "outputs": [],
   "source": [
    "from matplotlib import pyplot"
   ]
  },
  {
   "cell_type": "code",
   "execution_count": 37,
   "id": "dc02dae1",
   "metadata": {},
   "outputs": [],
   "source": [
    "all = pd.read_csv('../sonicDataAnalizeYaro/csv/22Data.csv',delimiter=',')"
   ]
  },
  {
   "cell_type": "code",
   "execution_count": 38,
   "id": "df67a75c",
   "metadata": {
    "pycharm": {
     "is_executing": true
    },
    "scrolled": true
   },
   "outputs": [
    {
     "data": {
      "text/html": [
       "<div>\n",
       "<style scoped>\n",
       "    .dataframe tbody tr th:only-of-type {\n",
       "        vertical-align: middle;\n",
       "    }\n",
       "\n",
       "    .dataframe tbody tr th {\n",
       "        vertical-align: top;\n",
       "    }\n",
       "\n",
       "    .dataframe thead th {\n",
       "        text-align: right;\n",
       "    }\n",
       "</style>\n",
       "<table border=\"1\" class=\"dataframe\">\n",
       "  <thead>\n",
       "    <tr style=\"text-align: right;\">\n",
       "      <th></th>\n",
       "      <th>id</th>\n",
       "      <th>name</th>\n",
       "      <th>age</th>\n",
       "      <th>sex</th>\n",
       "      <th>link</th>\n",
       "      <th>text</th>\n",
       "    </tr>\n",
       "  </thead>\n",
       "  <tbody>\n",
       "    <tr>\n",
       "      <th>0</th>\n",
       "      <td>1</td>\n",
       "      <td>Ольга Матюшина</td>\n",
       "      <td>56</td>\n",
       "      <td>f</td>\n",
       "      <td>https://prozhito.org/note/448077</td>\n",
       "      <td>Евгения Михайловна много лет жила в двухэтажно...</td>\n",
       "    </tr>\n",
       "    <tr>\n",
       "      <th>1</th>\n",
       "      <td>2</td>\n",
       "      <td>Иван Савиков</td>\n",
       "      <td>38</td>\n",
       "      <td>m</td>\n",
       "      <td>https://prozhito.org/note/451514</td>\n",
       "      <td>И вот 22 июня, когда меня трясла малярия, вдру...</td>\n",
       "    </tr>\n",
       "    <tr>\n",
       "      <th>2</th>\n",
       "      <td>3</td>\n",
       "      <td>Лев Пашерстник</td>\n",
       "      <td>16</td>\n",
       "      <td>m</td>\n",
       "      <td>https://prozhito.org/note/453306https://prozhi...</td>\n",
       "      <td>Сегодня по радио передавали речь Молотова о пе...</td>\n",
       "    </tr>\n",
       "    <tr>\n",
       "      <th>3</th>\n",
       "      <td>4</td>\n",
       "      <td>Андрей Батуев</td>\n",
       "      <td>33</td>\n",
       "      <td>m</td>\n",
       "      <td>https://prozhito.org/note/453408https://prozhi...</td>\n",
       "      <td>День ясный, теплый, солнечный. Однако это уже ...</td>\n",
       "    </tr>\n",
       "    <tr>\n",
       "      <th>4</th>\n",
       "      <td>5</td>\n",
       "      <td>Янис Гринвалдс</td>\n",
       "      <td>44</td>\n",
       "      <td>m</td>\n",
       "      <td>https://prozhito.org/note/461521</td>\n",
       "      <td>На выставке нас поразила карта Советского Союз...</td>\n",
       "    </tr>\n",
       "    <tr>\n",
       "      <th>5</th>\n",
       "      <td>6</td>\n",
       "      <td>Василий Леонтьев</td>\n",
       "      <td>16</td>\n",
       "      <td>m</td>\n",
       "      <td>https://prozhito.org/note/461628</td>\n",
       "      <td>До этого дня много купались. Уже все загорели....</td>\n",
       "    </tr>\n",
       "    <tr>\n",
       "      <th>6</th>\n",
       "      <td>7</td>\n",
       "      <td>Елизавета Турнас</td>\n",
       "      <td>27 лет</td>\n",
       "      <td>f</td>\n",
       "      <td>https://prozhito.org/note/463884</td>\n",
       "      <td>22-го июня с утра пошли с сыном в баню, Вл. Ив...</td>\n",
       "    </tr>\n",
       "    <tr>\n",
       "      <th>7</th>\n",
       "      <td>8</td>\n",
       "      <td>Наталия Колесникова</td>\n",
       "      <td>undefined</td>\n",
       "      <td>f</td>\n",
       "      <td>https://prozhito.org/note/466637</td>\n",
       "      <td>Воскресенье. В ночь с 21 июля на 22 была перва...</td>\n",
       "    </tr>\n",
       "    <tr>\n",
       "      <th>8</th>\n",
       "      <td>9</td>\n",
       "      <td>АлександраЗагорская</td>\n",
       "      <td>undefined</td>\n",
       "      <td>f</td>\n",
       "      <td>https://prozhito.org/note/466717</td>\n",
       "      <td>Началась война с немецкими фашистами. Помню, к...</td>\n",
       "    </tr>\n",
       "    <tr>\n",
       "      <th>9</th>\n",
       "      <td>10</td>\n",
       "      <td>Александр Резяпкин</td>\n",
       "      <td>32</td>\n",
       "      <td>m</td>\n",
       "      <td>https://prozhito.org/note/467550</td>\n",
       "      <td>Как только Молотов окончил свою речь, капитан ...</td>\n",
       "    </tr>\n",
       "  </tbody>\n",
       "</table>\n",
       "</div>"
      ],
      "text/plain": [
       "   id                 name        age sex  \\\n",
       "0   1       Ольга Матюшина         56   f   \n",
       "1   2         Иван Савиков         38   m   \n",
       "2   3       Лев Пашерстник         16   m   \n",
       "3   4        Андрей Батуев         33   m   \n",
       "4   5       Янис Гринвалдс         44   m   \n",
       "5   6     Василий Леонтьев         16   m   \n",
       "6   7     Елизавета Турнас     27 лет   f   \n",
       "7   8  Наталия Колесникова  undefined   f   \n",
       "8   9  АлександраЗагорская  undefined   f   \n",
       "9  10   Александр Резяпкин         32   m   \n",
       "\n",
       "                                                link  \\\n",
       "0                   https://prozhito.org/note/448077   \n",
       "1                   https://prozhito.org/note/451514   \n",
       "2  https://prozhito.org/note/453306https://prozhi...   \n",
       "3  https://prozhito.org/note/453408https://prozhi...   \n",
       "4                   https://prozhito.org/note/461521   \n",
       "5                   https://prozhito.org/note/461628   \n",
       "6                   https://prozhito.org/note/463884   \n",
       "7                   https://prozhito.org/note/466637   \n",
       "8                   https://prozhito.org/note/466717   \n",
       "9                   https://prozhito.org/note/467550   \n",
       "\n",
       "                                                text  \n",
       "0  Евгения Михайловна много лет жила в двухэтажно...  \n",
       "1  И вот 22 июня, когда меня трясла малярия, вдру...  \n",
       "2  Сегодня по радио передавали речь Молотова о пе...  \n",
       "3  День ясный, теплый, солнечный. Однако это уже ...  \n",
       "4  На выставке нас поразила карта Советского Союз...  \n",
       "5  До этого дня много купались. Уже все загорели....  \n",
       "6  22-го июня с утра пошли с сыном в баню, Вл. Ив...  \n",
       "7  Воскресенье. В ночь с 21 июля на 22 была перва...  \n",
       "8  Началась война с немецкими фашистами. Помню, к...  \n",
       "9  Как только Молотов окончил свою речь, капитан ...  "
      ]
     },
     "metadata": {},
     "output_type": "display_data"
    }
   ],
   "source": [
    "display(all)"
   ]
  },
  {
   "cell_type": "code",
   "execution_count": 40,
   "id": "aa0b111d",
   "metadata": {
    "pycharm": {
     "is_executing": true
    }
   },
   "outputs": [],
   "source": [
    "tone =  pd.read_csv('../sonicDataAnalizeYaro/csv/22Data.csv',delimiter=',')"
   ]
  },
  {
   "cell_type": "code",
   "execution_count": 41,
   "id": "4e9c0952",
   "metadata": {
    "pycharm": {
     "is_executing": true
    }
   },
   "outputs": [
    {
     "data": {
      "text/html": [
       "<div>\n",
       "<style scoped>\n",
       "    .dataframe tbody tr th:only-of-type {\n",
       "        vertical-align: middle;\n",
       "    }\n",
       "\n",
       "    .dataframe tbody tr th {\n",
       "        vertical-align: top;\n",
       "    }\n",
       "\n",
       "    .dataframe thead th {\n",
       "        text-align: right;\n",
       "    }\n",
       "</style>\n",
       "<table border=\"1\" class=\"dataframe\">\n",
       "  <thead>\n",
       "    <tr style=\"text-align: right;\">\n",
       "      <th></th>\n",
       "      <th>id</th>\n",
       "      <th>name</th>\n",
       "      <th>age</th>\n",
       "      <th>sex</th>\n",
       "      <th>link</th>\n",
       "      <th>text</th>\n",
       "    </tr>\n",
       "  </thead>\n",
       "  <tbody>\n",
       "    <tr>\n",
       "      <th>0</th>\n",
       "      <td>1</td>\n",
       "      <td>Ольга Матюшина</td>\n",
       "      <td>56</td>\n",
       "      <td>f</td>\n",
       "      <td>https://prozhito.org/note/448077</td>\n",
       "      <td>Евгения Михайловна много лет жила в двухэтажно...</td>\n",
       "    </tr>\n",
       "    <tr>\n",
       "      <th>1</th>\n",
       "      <td>2</td>\n",
       "      <td>Иван Савиков</td>\n",
       "      <td>38</td>\n",
       "      <td>m</td>\n",
       "      <td>https://prozhito.org/note/451514</td>\n",
       "      <td>И вот 22 июня, когда меня трясла малярия, вдру...</td>\n",
       "    </tr>\n",
       "    <tr>\n",
       "      <th>2</th>\n",
       "      <td>3</td>\n",
       "      <td>Лев Пашерстник</td>\n",
       "      <td>16</td>\n",
       "      <td>m</td>\n",
       "      <td>https://prozhito.org/note/453306https://prozhi...</td>\n",
       "      <td>Сегодня по радио передавали речь Молотова о пе...</td>\n",
       "    </tr>\n",
       "    <tr>\n",
       "      <th>3</th>\n",
       "      <td>4</td>\n",
       "      <td>Андрей Батуев</td>\n",
       "      <td>33</td>\n",
       "      <td>m</td>\n",
       "      <td>https://prozhito.org/note/453408https://prozhi...</td>\n",
       "      <td>День ясный, теплый, солнечный. Однако это уже ...</td>\n",
       "    </tr>\n",
       "    <tr>\n",
       "      <th>4</th>\n",
       "      <td>5</td>\n",
       "      <td>Янис Гринвалдс</td>\n",
       "      <td>44</td>\n",
       "      <td>m</td>\n",
       "      <td>https://prozhito.org/note/461521</td>\n",
       "      <td>На выставке нас поразила карта Советского Союз...</td>\n",
       "    </tr>\n",
       "    <tr>\n",
       "      <th>5</th>\n",
       "      <td>6</td>\n",
       "      <td>Василий Леонтьев</td>\n",
       "      <td>16</td>\n",
       "      <td>m</td>\n",
       "      <td>https://prozhito.org/note/461628</td>\n",
       "      <td>До этого дня много купались. Уже все загорели....</td>\n",
       "    </tr>\n",
       "    <tr>\n",
       "      <th>6</th>\n",
       "      <td>7</td>\n",
       "      <td>Елизавета Турнас</td>\n",
       "      <td>27 лет</td>\n",
       "      <td>f</td>\n",
       "      <td>https://prozhito.org/note/463884</td>\n",
       "      <td>22-го июня с утра пошли с сыном в баню, Вл. Ив...</td>\n",
       "    </tr>\n",
       "    <tr>\n",
       "      <th>7</th>\n",
       "      <td>8</td>\n",
       "      <td>Наталия Колесникова</td>\n",
       "      <td>undefined</td>\n",
       "      <td>f</td>\n",
       "      <td>https://prozhito.org/note/466637</td>\n",
       "      <td>Воскресенье. В ночь с 21 июля на 22 была перва...</td>\n",
       "    </tr>\n",
       "    <tr>\n",
       "      <th>8</th>\n",
       "      <td>9</td>\n",
       "      <td>АлександраЗагорская</td>\n",
       "      <td>undefined</td>\n",
       "      <td>f</td>\n",
       "      <td>https://prozhito.org/note/466717</td>\n",
       "      <td>Началась война с немецкими фашистами. Помню, к...</td>\n",
       "    </tr>\n",
       "    <tr>\n",
       "      <th>9</th>\n",
       "      <td>10</td>\n",
       "      <td>Александр Резяпкин</td>\n",
       "      <td>32</td>\n",
       "      <td>m</td>\n",
       "      <td>https://prozhito.org/note/467550</td>\n",
       "      <td>Как только Молотов окончил свою речь, капитан ...</td>\n",
       "    </tr>\n",
       "  </tbody>\n",
       "</table>\n",
       "</div>"
      ],
      "text/plain": [
       "   id                 name        age sex  \\\n",
       "0   1       Ольга Матюшина         56   f   \n",
       "1   2         Иван Савиков         38   m   \n",
       "2   3       Лев Пашерстник         16   m   \n",
       "3   4        Андрей Батуев         33   m   \n",
       "4   5       Янис Гринвалдс         44   m   \n",
       "5   6     Василий Леонтьев         16   m   \n",
       "6   7     Елизавета Турнас     27 лет   f   \n",
       "7   8  Наталия Колесникова  undefined   f   \n",
       "8   9  АлександраЗагорская  undefined   f   \n",
       "9  10   Александр Резяпкин         32   m   \n",
       "\n",
       "                                                link  \\\n",
       "0                   https://prozhito.org/note/448077   \n",
       "1                   https://prozhito.org/note/451514   \n",
       "2  https://prozhito.org/note/453306https://prozhi...   \n",
       "3  https://prozhito.org/note/453408https://prozhi...   \n",
       "4                   https://prozhito.org/note/461521   \n",
       "5                   https://prozhito.org/note/461628   \n",
       "6                   https://prozhito.org/note/463884   \n",
       "7                   https://prozhito.org/note/466637   \n",
       "8                   https://prozhito.org/note/466717   \n",
       "9                   https://prozhito.org/note/467550   \n",
       "\n",
       "                                                text  \n",
       "0  Евгения Михайловна много лет жила в двухэтажно...  \n",
       "1  И вот 22 июня, когда меня трясла малярия, вдру...  \n",
       "2  Сегодня по радио передавали речь Молотова о пе...  \n",
       "3  День ясный, теплый, солнечный. Однако это уже ...  \n",
       "4  На выставке нас поразила карта Советского Союз...  \n",
       "5  До этого дня много купались. Уже все загорели....  \n",
       "6  22-го июня с утра пошли с сыном в баню, Вл. Ив...  \n",
       "7  Воскресенье. В ночь с 21 июля на 22 была перва...  \n",
       "8  Началась война с немецкими фашистами. Помню, к...  \n",
       "9  Как только Молотов окончил свою речь, капитан ...  "
      ]
     },
     "metadata": {},
     "output_type": "display_data"
    }
   ],
   "source": [
    "\n",
    "display(tone)\n"
   ]
  },
  {
   "cell_type": "code",
   "execution_count": 44,
   "id": "4b1e6eff",
   "metadata": {
    "pycharm": {
     "is_executing": true
    }
   },
   "outputs": [
    {
     "ename": "KeyError",
     "evalue": "'+'",
     "output_type": "error",
     "traceback": [
      "\u001B[1;31m---------------------------------------------------------------------------\u001B[0m",
      "\u001B[1;31mKeyError\u001B[0m                                  Traceback (most recent call last)",
      "\u001B[1;32m~\\anaconda3\\lib\\site-packages\\pandas\\core\\indexes\\base.py\u001B[0m in \u001B[0;36mget_loc\u001B[1;34m(self, key, method, tolerance)\u001B[0m\n\u001B[0;32m   3079\u001B[0m             \u001B[1;32mtry\u001B[0m\u001B[1;33m:\u001B[0m\u001B[1;33m\u001B[0m\u001B[1;33m\u001B[0m\u001B[0m\n\u001B[1;32m-> 3080\u001B[1;33m                 \u001B[1;32mreturn\u001B[0m \u001B[0mself\u001B[0m\u001B[1;33m.\u001B[0m\u001B[0m_engine\u001B[0m\u001B[1;33m.\u001B[0m\u001B[0mget_loc\u001B[0m\u001B[1;33m(\u001B[0m\u001B[0mcasted_key\u001B[0m\u001B[1;33m)\u001B[0m\u001B[1;33m\u001B[0m\u001B[1;33m\u001B[0m\u001B[0m\n\u001B[0m\u001B[0;32m   3081\u001B[0m             \u001B[1;32mexcept\u001B[0m \u001B[0mKeyError\u001B[0m \u001B[1;32mas\u001B[0m \u001B[0merr\u001B[0m\u001B[1;33m:\u001B[0m\u001B[1;33m\u001B[0m\u001B[1;33m\u001B[0m\u001B[0m\n",
      "\u001B[1;32mpandas\\_libs\\index.pyx\u001B[0m in \u001B[0;36mpandas._libs.index.IndexEngine.get_loc\u001B[1;34m()\u001B[0m\n",
      "\u001B[1;32mpandas\\_libs\\index.pyx\u001B[0m in \u001B[0;36mpandas._libs.index.IndexEngine.get_loc\u001B[1;34m()\u001B[0m\n",
      "\u001B[1;32mpandas\\_libs\\hashtable_class_helper.pxi\u001B[0m in \u001B[0;36mpandas._libs.hashtable.PyObjectHashTable.get_item\u001B[1;34m()\u001B[0m\n",
      "\u001B[1;32mpandas\\_libs\\hashtable_class_helper.pxi\u001B[0m in \u001B[0;36mpandas._libs.hashtable.PyObjectHashTable.get_item\u001B[1;34m()\u001B[0m\n",
      "\u001B[1;31mKeyError\u001B[0m: '+'",
      "\nThe above exception was the direct cause of the following exception:\n",
      "\u001B[1;31mKeyError\u001B[0m                                  Traceback (most recent call last)",
      "\u001B[1;32m<ipython-input-44-0123c49d9d88>\u001B[0m in \u001B[0;36m<module>\u001B[1;34m\u001B[0m\n\u001B[1;32m----> 1\u001B[1;33m \u001B[0mindex\u001B[0m \u001B[1;33m=\u001B[0m \u001B[0mtone\u001B[0m\u001B[1;33m[\u001B[0m\u001B[1;34m\"+\"\u001B[0m\u001B[1;33m]\u001B[0m\u001B[1;33m\u001B[0m\u001B[1;33m\u001B[0m\u001B[0m\n\u001B[0m\u001B[0;32m      2\u001B[0m \u001B[0mvalues\u001B[0m \u001B[1;33m=\u001B[0m \u001B[0mtone\u001B[0m\u001B[1;33m[\u001B[0m\u001B[1;34m'-'\u001B[0m\u001B[1;33m]\u001B[0m\u001B[1;33m\u001B[0m\u001B[1;33m\u001B[0m\u001B[0m\n\u001B[0;32m      3\u001B[0m \u001B[0mplt\u001B[0m\u001B[1;33m.\u001B[0m\u001B[0mbar\u001B[0m\u001B[1;33m(\u001B[0m\u001B[0mindex\u001B[0m\u001B[1;33m,\u001B[0m\u001B[0mvalues\u001B[0m\u001B[1;33m)\u001B[0m\u001B[1;33m\u001B[0m\u001B[1;33m\u001B[0m\u001B[0m\n\u001B[0;32m      4\u001B[0m \u001B[0mplt\u001B[0m\u001B[1;33m.\u001B[0m\u001B[0mshow\u001B[0m\u001B[1;33m(\u001B[0m\u001B[1;33m)\u001B[0m\u001B[1;33m\u001B[0m\u001B[1;33m\u001B[0m\u001B[0m\n",
      "\u001B[1;32m~\\anaconda3\\lib\\site-packages\\pandas\\core\\frame.py\u001B[0m in \u001B[0;36m__getitem__\u001B[1;34m(self, key)\u001B[0m\n\u001B[0;32m   3022\u001B[0m             \u001B[1;32mif\u001B[0m \u001B[0mself\u001B[0m\u001B[1;33m.\u001B[0m\u001B[0mcolumns\u001B[0m\u001B[1;33m.\u001B[0m\u001B[0mnlevels\u001B[0m \u001B[1;33m>\u001B[0m \u001B[1;36m1\u001B[0m\u001B[1;33m:\u001B[0m\u001B[1;33m\u001B[0m\u001B[1;33m\u001B[0m\u001B[0m\n\u001B[0;32m   3023\u001B[0m                 \u001B[1;32mreturn\u001B[0m \u001B[0mself\u001B[0m\u001B[1;33m.\u001B[0m\u001B[0m_getitem_multilevel\u001B[0m\u001B[1;33m(\u001B[0m\u001B[0mkey\u001B[0m\u001B[1;33m)\u001B[0m\u001B[1;33m\u001B[0m\u001B[1;33m\u001B[0m\u001B[0m\n\u001B[1;32m-> 3024\u001B[1;33m             \u001B[0mindexer\u001B[0m \u001B[1;33m=\u001B[0m \u001B[0mself\u001B[0m\u001B[1;33m.\u001B[0m\u001B[0mcolumns\u001B[0m\u001B[1;33m.\u001B[0m\u001B[0mget_loc\u001B[0m\u001B[1;33m(\u001B[0m\u001B[0mkey\u001B[0m\u001B[1;33m)\u001B[0m\u001B[1;33m\u001B[0m\u001B[1;33m\u001B[0m\u001B[0m\n\u001B[0m\u001B[0;32m   3025\u001B[0m             \u001B[1;32mif\u001B[0m \u001B[0mis_integer\u001B[0m\u001B[1;33m(\u001B[0m\u001B[0mindexer\u001B[0m\u001B[1;33m)\u001B[0m\u001B[1;33m:\u001B[0m\u001B[1;33m\u001B[0m\u001B[1;33m\u001B[0m\u001B[0m\n\u001B[0;32m   3026\u001B[0m                 \u001B[0mindexer\u001B[0m \u001B[1;33m=\u001B[0m \u001B[1;33m[\u001B[0m\u001B[0mindexer\u001B[0m\u001B[1;33m]\u001B[0m\u001B[1;33m\u001B[0m\u001B[1;33m\u001B[0m\u001B[0m\n",
      "\u001B[1;32m~\\anaconda3\\lib\\site-packages\\pandas\\core\\indexes\\base.py\u001B[0m in \u001B[0;36mget_loc\u001B[1;34m(self, key, method, tolerance)\u001B[0m\n\u001B[0;32m   3080\u001B[0m                 \u001B[1;32mreturn\u001B[0m \u001B[0mself\u001B[0m\u001B[1;33m.\u001B[0m\u001B[0m_engine\u001B[0m\u001B[1;33m.\u001B[0m\u001B[0mget_loc\u001B[0m\u001B[1;33m(\u001B[0m\u001B[0mcasted_key\u001B[0m\u001B[1;33m)\u001B[0m\u001B[1;33m\u001B[0m\u001B[1;33m\u001B[0m\u001B[0m\n\u001B[0;32m   3081\u001B[0m             \u001B[1;32mexcept\u001B[0m \u001B[0mKeyError\u001B[0m \u001B[1;32mas\u001B[0m \u001B[0merr\u001B[0m\u001B[1;33m:\u001B[0m\u001B[1;33m\u001B[0m\u001B[1;33m\u001B[0m\u001B[0m\n\u001B[1;32m-> 3082\u001B[1;33m                 \u001B[1;32mraise\u001B[0m \u001B[0mKeyError\u001B[0m\u001B[1;33m(\u001B[0m\u001B[0mkey\u001B[0m\u001B[1;33m)\u001B[0m \u001B[1;32mfrom\u001B[0m \u001B[0merr\u001B[0m\u001B[1;33m\u001B[0m\u001B[1;33m\u001B[0m\u001B[0m\n\u001B[0m\u001B[0;32m   3083\u001B[0m \u001B[1;33m\u001B[0m\u001B[0m\n\u001B[0;32m   3084\u001B[0m         \u001B[1;32mif\u001B[0m \u001B[0mtolerance\u001B[0m \u001B[1;32mis\u001B[0m \u001B[1;32mnot\u001B[0m \u001B[1;32mNone\u001B[0m\u001B[1;33m:\u001B[0m\u001B[1;33m\u001B[0m\u001B[1;33m\u001B[0m\u001B[0m\n",
      "\u001B[1;31mKeyError\u001B[0m: '+'"
     ]
    }
   ],
   "source": [
    "index = tone[\"+\"]\n",
    "values = tone['-']\n",
    "plt.bar(index,values)\n",
    "plt.show()"
   ]
  },
  {
   "cell_type": "code",
   "execution_count": 45,
   "id": "547b50dc",
   "metadata": {
    "pycharm": {
     "is_executing": true
    }
   },
   "outputs": [
    {
     "ename": "KeyError",
     "evalue": "'0'",
     "output_type": "error",
     "traceback": [
      "\u001B[1;31m---------------------------------------------------------------------------\u001B[0m",
      "\u001B[1;31mKeyError\u001B[0m                                  Traceback (most recent call last)",
      "\u001B[1;32m~\\anaconda3\\lib\\site-packages\\pandas\\core\\indexes\\base.py\u001B[0m in \u001B[0;36mget_loc\u001B[1;34m(self, key, method, tolerance)\u001B[0m\n\u001B[0;32m   3079\u001B[0m             \u001B[1;32mtry\u001B[0m\u001B[1;33m:\u001B[0m\u001B[1;33m\u001B[0m\u001B[1;33m\u001B[0m\u001B[0m\n\u001B[1;32m-> 3080\u001B[1;33m                 \u001B[1;32mreturn\u001B[0m \u001B[0mself\u001B[0m\u001B[1;33m.\u001B[0m\u001B[0m_engine\u001B[0m\u001B[1;33m.\u001B[0m\u001B[0mget_loc\u001B[0m\u001B[1;33m(\u001B[0m\u001B[0mcasted_key\u001B[0m\u001B[1;33m)\u001B[0m\u001B[1;33m\u001B[0m\u001B[1;33m\u001B[0m\u001B[0m\n\u001B[0m\u001B[0;32m   3081\u001B[0m             \u001B[1;32mexcept\u001B[0m \u001B[0mKeyError\u001B[0m \u001B[1;32mas\u001B[0m \u001B[0merr\u001B[0m\u001B[1;33m:\u001B[0m\u001B[1;33m\u001B[0m\u001B[1;33m\u001B[0m\u001B[0m\n",
      "\u001B[1;32mpandas\\_libs\\index.pyx\u001B[0m in \u001B[0;36mpandas._libs.index.IndexEngine.get_loc\u001B[1;34m()\u001B[0m\n",
      "\u001B[1;32mpandas\\_libs\\index.pyx\u001B[0m in \u001B[0;36mpandas._libs.index.IndexEngine.get_loc\u001B[1;34m()\u001B[0m\n",
      "\u001B[1;32mpandas\\_libs\\hashtable_class_helper.pxi\u001B[0m in \u001B[0;36mpandas._libs.hashtable.PyObjectHashTable.get_item\u001B[1;34m()\u001B[0m\n",
      "\u001B[1;32mpandas\\_libs\\hashtable_class_helper.pxi\u001B[0m in \u001B[0;36mpandas._libs.hashtable.PyObjectHashTable.get_item\u001B[1;34m()\u001B[0m\n",
      "\u001B[1;31mKeyError\u001B[0m: '0'",
      "\nThe above exception was the direct cause of the following exception:\n",
      "\u001B[1;31mKeyError\u001B[0m                                  Traceback (most recent call last)",
      "\u001B[1;32m<ipython-input-45-047950a3a3e8>\u001B[0m in \u001B[0;36m<module>\u001B[1;34m\u001B[0m\n\u001B[0;32m      2\u001B[0m \u001B[1;33m\u001B[0m\u001B[0m\n\u001B[0;32m      3\u001B[0m \u001B[0mpyplot\u001B[0m\u001B[1;33m.\u001B[0m\u001B[0maxis\u001B[0m\u001B[1;33m(\u001B[0m\u001B[1;34m'equal'\u001B[0m\u001B[1;33m)\u001B[0m\u001B[1;33m\u001B[0m\u001B[1;33m\u001B[0m\u001B[0m\n\u001B[1;32m----> 4\u001B[1;33m \u001B[0mtone\u001B[0m\u001B[1;33m[\u001B[0m\u001B[1;34m'0'\u001B[0m\u001B[1;33m]\u001B[0m\u001B[1;33m.\u001B[0m\u001B[0mplot\u001B[0m\u001B[1;33m(\u001B[0m\u001B[0mkind\u001B[0m\u001B[1;33m=\u001B[0m\u001B[1;34m'pie'\u001B[0m\u001B[1;33m)\u001B[0m\u001B[1;33m\u001B[0m\u001B[1;33m\u001B[0m\u001B[0m\n\u001B[0m",
      "\u001B[1;32m~\\anaconda3\\lib\\site-packages\\pandas\\core\\frame.py\u001B[0m in \u001B[0;36m__getitem__\u001B[1;34m(self, key)\u001B[0m\n\u001B[0;32m   3022\u001B[0m             \u001B[1;32mif\u001B[0m \u001B[0mself\u001B[0m\u001B[1;33m.\u001B[0m\u001B[0mcolumns\u001B[0m\u001B[1;33m.\u001B[0m\u001B[0mnlevels\u001B[0m \u001B[1;33m>\u001B[0m \u001B[1;36m1\u001B[0m\u001B[1;33m:\u001B[0m\u001B[1;33m\u001B[0m\u001B[1;33m\u001B[0m\u001B[0m\n\u001B[0;32m   3023\u001B[0m                 \u001B[1;32mreturn\u001B[0m \u001B[0mself\u001B[0m\u001B[1;33m.\u001B[0m\u001B[0m_getitem_multilevel\u001B[0m\u001B[1;33m(\u001B[0m\u001B[0mkey\u001B[0m\u001B[1;33m)\u001B[0m\u001B[1;33m\u001B[0m\u001B[1;33m\u001B[0m\u001B[0m\n\u001B[1;32m-> 3024\u001B[1;33m             \u001B[0mindexer\u001B[0m \u001B[1;33m=\u001B[0m \u001B[0mself\u001B[0m\u001B[1;33m.\u001B[0m\u001B[0mcolumns\u001B[0m\u001B[1;33m.\u001B[0m\u001B[0mget_loc\u001B[0m\u001B[1;33m(\u001B[0m\u001B[0mkey\u001B[0m\u001B[1;33m)\u001B[0m\u001B[1;33m\u001B[0m\u001B[1;33m\u001B[0m\u001B[0m\n\u001B[0m\u001B[0;32m   3025\u001B[0m             \u001B[1;32mif\u001B[0m \u001B[0mis_integer\u001B[0m\u001B[1;33m(\u001B[0m\u001B[0mindexer\u001B[0m\u001B[1;33m)\u001B[0m\u001B[1;33m:\u001B[0m\u001B[1;33m\u001B[0m\u001B[1;33m\u001B[0m\u001B[0m\n\u001B[0;32m   3026\u001B[0m                 \u001B[0mindexer\u001B[0m \u001B[1;33m=\u001B[0m \u001B[1;33m[\u001B[0m\u001B[0mindexer\u001B[0m\u001B[1;33m]\u001B[0m\u001B[1;33m\u001B[0m\u001B[1;33m\u001B[0m\u001B[0m\n",
      "\u001B[1;32m~\\anaconda3\\lib\\site-packages\\pandas\\core\\indexes\\base.py\u001B[0m in \u001B[0;36mget_loc\u001B[1;34m(self, key, method, tolerance)\u001B[0m\n\u001B[0;32m   3080\u001B[0m                 \u001B[1;32mreturn\u001B[0m \u001B[0mself\u001B[0m\u001B[1;33m.\u001B[0m\u001B[0m_engine\u001B[0m\u001B[1;33m.\u001B[0m\u001B[0mget_loc\u001B[0m\u001B[1;33m(\u001B[0m\u001B[0mcasted_key\u001B[0m\u001B[1;33m)\u001B[0m\u001B[1;33m\u001B[0m\u001B[1;33m\u001B[0m\u001B[0m\n\u001B[0;32m   3081\u001B[0m             \u001B[1;32mexcept\u001B[0m \u001B[0mKeyError\u001B[0m \u001B[1;32mas\u001B[0m \u001B[0merr\u001B[0m\u001B[1;33m:\u001B[0m\u001B[1;33m\u001B[0m\u001B[1;33m\u001B[0m\u001B[0m\n\u001B[1;32m-> 3082\u001B[1;33m                 \u001B[1;32mraise\u001B[0m \u001B[0mKeyError\u001B[0m\u001B[1;33m(\u001B[0m\u001B[0mkey\u001B[0m\u001B[1;33m)\u001B[0m \u001B[1;32mfrom\u001B[0m \u001B[0merr\u001B[0m\u001B[1;33m\u001B[0m\u001B[1;33m\u001B[0m\u001B[0m\n\u001B[0m\u001B[0;32m   3083\u001B[0m \u001B[1;33m\u001B[0m\u001B[0m\n\u001B[0;32m   3084\u001B[0m         \u001B[1;32mif\u001B[0m \u001B[0mtolerance\u001B[0m \u001B[1;32mis\u001B[0m \u001B[1;32mnot\u001B[0m \u001B[1;32mNone\u001B[0m\u001B[1;33m:\u001B[0m\u001B[1;33m\u001B[0m\u001B[1;33m\u001B[0m\u001B[0m\n",
      "\u001B[1;31mKeyError\u001B[0m: '0'"
     ]
    },
    {
     "data": {
      "image/png": "[encoded data removed]",
      "text/plain": [
       "<Figure size 432x288 with 1 Axes>"
      ]
     },
     "metadata": {
      "needs_background": "light"
     },
     "output_type": "display_data"
    }
   ],
   "source": [
    "from matplotlib import pyplot\n",
    "\n",
    "pyplot.axis('equal')\n",
    "tone['0'].plot(kind='pie')"
   ]
  },
  {
   "cell_type": "code",
   "execution_count": 24,
   "id": "b5f807b1",
   "metadata": {
    "pycharm": {
     "is_executing": true
    }
   },
   "outputs": [
    {
     "data": {
      "text/plain": [
       "<AxesSubplot:>"
      ]
     },
     "execution_count": 24,
     "metadata": {},
     "output_type": "execute_result"
    },
    {
     "data": {
      "image/png": "[encoded data removed]",
      "text/plain": [
       "<Figure size 432x288 with 1 Axes>"
      ]
     },
     "metadata": {
      "needs_background": "light"
     },
     "output_type": "display_data"
    }
   ],
   "source": [
    "tone['0'].hist()\n",
    "tone['+'].hist()\n",
    "tone['-'].hist()\n",
    "\n"
   ]
  },
  {
   "cell_type": "code",
   "execution_count": 25,
   "id": "cb2546bd",
   "metadata": {
    "pycharm": {
     "is_executing": true
    }
   },
   "outputs": [
    {
     "data": {
      "image/png": "[encoded data removed]",
      "text/plain": [
       "<Figure size 432x288 with 1 Axes>"
      ]
     },
     "metadata": {
      "needs_background": "light"
     },
     "output_type": "display_data"
    }
   ],
   "source": [
    "index = tone[\"+\"]\n",
    "values = tone['0']\n",
    "plt.bar(index,values)\n",
    "plt.show()"
   ]
  },
  {
   "cell_type": "code",
   "execution_count": 26,
   "id": "540a0651",
   "metadata": {
    "pycharm": {
     "is_executing": true
    }
   },
   "outputs": [
    {
     "ename": "SyntaxError",
     "evalue": "invalid syntax (<ipython-input-26-42ba0a2fe128>, line 1)",
     "output_type": "error",
     "traceback": [
      "\u001B[1;36m  File \u001B[1;32m\"<ipython-input-26-42ba0a2fe128>\"\u001B[1;36m, line \u001B[1;32m1\u001B[0m\n\u001B[1;33m    простая гистограмма до соноризации\u001B[0m\n\u001B[1;37m            ^\u001B[0m\n\u001B[1;31mSyntaxError\u001B[0m\u001B[1;31m:\u001B[0m invalid syntax\n"
     ]
    }
   ],
   "source": [
    "простая гистограмма до соноризации"
   ]
  },
  {
   "cell_type": "code",
   "execution_count": 46,
   "id": "15b8dc37",
   "metadata": {
    "pycharm": {
     "is_executing": true
    }
   },
   "outputs": [],
   "source": [
    "import os"
   ]
  },
  {
   "cell_type": "code",
   "execution_count": 28,
   "id": "eaa94801",
   "metadata": {
    "pycharm": {
     "is_executing": true
    }
   },
   "outputs": [],
   "source": [
    "os.chdir('..')\n"
   ]
  },
  {
   "cell_type": "code",
   "execution_count": 47,
   "id": "fea0e7e4",
   "metadata": {
    "pycharm": {
     "is_executing": true
    }
   },
   "outputs": [],
   "source": [
    "paper =  pd.read_csv('../sonicDataAnalizeYaro/csv/22Data.csv',delimiter=',')"
   ]
  },
  {
   "cell_type": "code",
   "execution_count": 48,
   "id": "2928161b",
   "metadata": {
    "pycharm": {
     "is_executing": true
    }
   },
   "outputs": [],
   "source": [
    "papper = all[['text']]\n"
   ]
  },
  {
   "cell_type": "code",
   "execution_count": 49,
   "id": "6e7d085e",
   "metadata": {
    "pycharm": {
     "is_executing": true
    }
   },
   "outputs": [
    {
     "data": {
      "text/html": [
       "<div>\n",
       "<style scoped>\n",
       "    .dataframe tbody tr th:only-of-type {\n",
       "        vertical-align: middle;\n",
       "    }\n",
       "\n",
       "    .dataframe tbody tr th {\n",
       "        vertical-align: top;\n",
       "    }\n",
       "\n",
       "    .dataframe thead th {\n",
       "        text-align: right;\n",
       "    }\n",
       "</style>\n",
       "<table border=\"1\" class=\"dataframe\">\n",
       "  <thead>\n",
       "    <tr style=\"text-align: right;\">\n",
       "      <th></th>\n",
       "      <th>text</th>\n",
       "    </tr>\n",
       "  </thead>\n",
       "  <tbody>\n",
       "    <tr>\n",
       "      <th>0</th>\n",
       "      <td>Евгения Михайловна много лет жила в двухэтажно...</td>\n",
       "    </tr>\n",
       "    <tr>\n",
       "      <th>1</th>\n",
       "      <td>И вот 22 июня, когда меня трясла малярия, вдру...</td>\n",
       "    </tr>\n",
       "    <tr>\n",
       "      <th>2</th>\n",
       "      <td>Сегодня по радио передавали речь Молотова о пе...</td>\n",
       "    </tr>\n",
       "    <tr>\n",
       "      <th>3</th>\n",
       "      <td>День ясный, теплый, солнечный. Однако это уже ...</td>\n",
       "    </tr>\n",
       "    <tr>\n",
       "      <th>4</th>\n",
       "      <td>На выставке нас поразила карта Советского Союз...</td>\n",
       "    </tr>\n",
       "  </tbody>\n",
       "</table>\n",
       "</div>"
      ],
      "text/plain": [
       "                                                text\n",
       "0  Евгения Михайловна много лет жила в двухэтажно...\n",
       "1  И вот 22 июня, когда меня трясла малярия, вдру...\n",
       "2  Сегодня по радио передавали речь Молотова о пе...\n",
       "3  День ясный, теплый, солнечный. Однако это уже ...\n",
       "4  На выставке нас поразила карта Советского Союз..."
      ]
     },
     "execution_count": 49,
     "metadata": {},
     "output_type": "execute_result"
    }
   ],
   "source": [
    "papper.head()\n",
    "\n",
    "\n"
   ]
  },
  {
   "cell_type": "code",
   "execution_count": 50,
   "id": "af29949f",
   "metadata": {
    "pycharm": {
     "is_executing": true
    }
   },
   "outputs": [
    {
     "name": "stderr",
     "output_type": "stream",
     "text": [
      "<ipython-input-50-9a5841b66bed>:5: SettingWithCopyWarning: \n",
      "A value is trying to be set on a copy of a slice from a DataFrame.\n",
      "Try using .loc[row_indexer,col_indexer] = value instead\n",
      "\n",
      "See the caveats in the documentation: https://pandas.pydata.org/pandas-docs/stable/user_guide/indexing.html#returning-a-view-versus-a-copy\n",
      "  papper['text_processed'] = \\\n",
      "<ipython-input-50-9a5841b66bed>:8: SettingWithCopyWarning: \n",
      "A value is trying to be set on a copy of a slice from a DataFrame.\n",
      "Try using .loc[row_indexer,col_indexer] = value instead\n",
      "\n",
      "See the caveats in the documentation: https://pandas.pydata.org/pandas-docs/stable/user_guide/indexing.html#returning-a-view-versus-a-copy\n",
      "  papper['text_processed'] = \\\n"
     ]
    },
    {
     "data": {
      "text/plain": [
       "0    евгения михайловна много лет жила в двухэтажно...\n",
       "1    и вот 22 июня когда меня трясла малярия вдруг ...\n",
       "2    сегодня по радио передавали речь молотова о пе...\n",
       "3    день ясный теплый солнечный однако это уже не ...\n",
       "4    на выставке нас поразила карта советского союз...\n",
       "Name: text_processed, dtype: object"
      ]
     },
     "execution_count": 50,
     "metadata": {},
     "output_type": "execute_result"
    }
   ],
   "source": [
    "import re\n",
    "\n",
    "\n",
    "# Remove punctuation\n",
    "papper['text_processed'] = \\\n",
    "papper['text'].map(lambda x: re.sub('[,\\.!?]', '', x))\n",
    "# Convert the titles to lowercase\n",
    "papper['text_processed'] = \\\n",
    "papper['text_processed'].map(lambda x: x.lower())\n",
    "# Print out the first rows of papers\n",
    "papper['text_processed'].head()"
   ]
  },
  {
   "cell_type": "code",
   "execution_count": null,
   "id": "dcbf5a15",
   "metadata": {
    "pycharm": {
     "is_executing": true
    }
   },
   "outputs": [],
   "source": []
  },
  {
   "cell_type": "code",
   "execution_count": 51,
   "id": "ad79d9cb",
   "metadata": {
    "pycharm": {
     "is_executing": true
    }
   },
   "outputs": [
    {
     "data": {
      "image/png": "[encoded data removed]",
      "text/plain": [
       "<PIL.Image.Image image mode=RGB size=400x200 at 0x2072F18F3A0>"
      ]
     },
     "execution_count": 51,
     "metadata": {},
     "output_type": "execute_result"
    }
   ],
   "source": [
    "# Import the wordcloud library\n",
    "from wordcloud import WordCloud\n",
    "# Join the different processed titles together.\n",
    "long_string = ','.join(list(papper['text_processed'].values))\n",
    "# Create a WordCloud object\n",
    "wordcloud = WordCloud(background_color=\"black\", max_words=5000, contour_width=3, contour_color='steelblue')\n",
    "# Generate a word cloud\n",
    "wordcloud.generate(long_string)\n",
    "# Visualize the word cloud\n",
    "wordcloud.to_image()"
   ]
  },
  {
   "cell_type": "code",
   "execution_count": 52,
   "id": "5ff1450b",
   "metadata": {
    "pycharm": {
     "is_executing": true
    }
   },
   "outputs": [
    {
     "name": "stdout",
     "output_type": "stream",
     "text": [
      "['лет', 'жила', 'двухэтажном', 'деревянном', 'домике', 'занимала', 'квартиру', 'комнаты', 'дом', 'старинныи', 'низкими', 'потолками', 'порогами', 'большими', 'окнами', 'квартир', 'доме', 'четыре', 'жильцы', 'жили', 'лет', 'знали', 'друг', 'друга', 'пять', 'днеи', 'воины', 'поредело', 'население', 'дома']\n"
     ]
    },
    {
     "name": "stderr",
     "output_type": "stream",
     "text": [
      "[nltk_data] Downloading package stopwords to\n",
      "[nltk_data]     C:\\Users\\yayar\\AppData\\Roaming\\nltk_data...\n",
      "[nltk_data]   Package stopwords is already up-to-date!\n"
     ]
    }
   ],
   "source": [
    "import gensim\n",
    "from gensim.utils import simple_preprocess\n",
    "import nltk\n",
    "out = open('C:/Users/yayar/OneDrive/Documents/текст дисертации Ярочкин/публикации/sonicDataAnalizeYaro/dostoevsky/dosroevsky_data/row.txt','w', encoding='utf8')\n",
    "nltk.download('stopwords')\n",
    "from nltk.corpus import stopwords\n",
    "stop_words = stopwords.words('russian')\n",
    "stop_words.extend(['в', 'на', 'и', 'не', 'за','b','евгения','михаиловна'])\n",
    "def sent_to_words(sentences):\n",
    "    for sentence in sentences:\n",
    "        # deacc=True removes punctuations\n",
    "        yield(gensim.utils.simple_preprocess(str(sentence), deacc=True))\n",
    "def remove_stopwords(texts):\n",
    "    return [[word for word in simple_preprocess(str(doc)) \n",
    "             if word not in stop_words] for doc in texts]\n",
    "data = papper.text_processed.values.tolist()\n",
    "data_words = list(sent_to_words(data))\n",
    "# remove stop words\n",
    "data_words = remove_stopwords(data_words)\n",
    "print(data_words[:1][0][:30])\n",
    "\n"
   ]
  },
  {
   "cell_type": "code",
   "execution_count": 53,
   "id": "5ae60be5",
   "metadata": {
    "pycharm": {
     "is_executing": true
    }
   },
   "outputs": [
    {
     "name": "stdout",
     "output_type": "stream",
     "text": [
      "[(0, 3), (1, 1), (2, 1), (3, 1), (4, 1), (5, 1), (6, 1), (7, 1), (8, 2), (9, 1), (10, 1), (11, 1), (12, 1), (13, 2), (14, 1), (15, 1), (16, 1), (17, 1), (18, 1), (19, 1), (20, 1), (21, 1), (22, 1), (23, 1), (24, 1), (25, 1), (26, 1), (27, 1), (28, 1), (29, 1)]\n"
     ]
    }
   ],
   "source": [
    "import gensim.corpora as corpora\n",
    "# Create Dictionary\n",
    "id2word = corpora.Dictionary(data_words)\n",
    "# Create Corpus\n",
    "texts = data_words\n",
    "# Term Document Frequency\n",
    "corpus = [id2word.doc2bow(text) for text in texts]\n",
    "# View\n",
    "print(corpus[:1][0][:30])"
   ]
  },
  {
   "cell_type": "code",
   "execution_count": 58,
   "id": "cc04e05a",
   "metadata": {
    "pycharm": {
     "is_executing": true
    }
   },
   "outputs": [
    {
     "name": "stdout",
     "output_type": "stream",
     "text": [
      "[(0,\n",
      "  '0.007*\"дома\" + 0.006*\"нам\" + 0.005*\"сад\" + 0.005*\"ребята\" + 0.004*\"всем\" + '\n",
      "  '0.004*\"свои\" + 0.003*\"стали\" + 0.003*\"евгении\" + 0.003*\"саду\" + '\n",
      "  '0.003*\"жильцы\"'),\n",
      " (1,\n",
      "  '0.005*\"дома\" + 0.004*\"ребята\" + 0.004*\"сад\" + 0.003*\"евгении\" + '\n",
      "  '0.003*\"саду\" + 0.003*\"лида\" + 0.003*\"ребятами\" + 0.003*\"девочки\" + '\n",
      "  '0.003*\"день\" + 0.003*\"часто\"'),\n",
      " (2,\n",
      "  '0.005*\"дома\" + 0.004*\"ребята\" + 0.004*\"день\" + 0.004*\"наши\" + 0.004*\"сад\" + '\n",
      "  '0.003*\"дом\" + 0.003*\"девочки\" + 0.003*\"саду\" + 0.003*\"немцы\" + '\n",
      "  '0.003*\"лида\"'),\n",
      " (3,\n",
      "  '0.009*\"немцы\" + 0.009*\"воиска\" + 0.007*\"наши\" + 0.006*\"нашем\" + '\n",
      "  '0.005*\"ночь\" + 0.005*\"взяли\" + 0.005*\"города\" + 0.005*\"доме\" + 0.005*\"день\" '\n",
      "  '+ 0.004*\"дом\"'),\n",
      " (4,\n",
      "  '0.011*\"очень\" + 0.010*\"воина\" + 0.009*\"молотов\" + 0.009*\"людям\" + '\n",
      "  '0.008*\"успешна\" + 0.008*\"несчастье\" + 0.007*\"нашу\" + 0.007*\"родину\" + '\n",
      "  '0.006*\"радио\" + 0.005*\"интеллигенции\"'),\n",
      " (5,\n",
      "  '0.005*\"дома\" + 0.004*\"сад\" + 0.004*\"наши\" + 0.003*\"воиска\" + 0.003*\"немцы\" '\n",
      "  '+ 0.003*\"дом\" + 0.003*\"ребята\" + 0.003*\"девочки\" + 0.003*\"день\" + '\n",
      "  '0.002*\"лида\"'),\n",
      " (6,\n",
      "  '0.012*\"это\" + 0.010*\"началась\" + 0.009*\"вражеские\" + 0.009*\"воина\" + '\n",
      "  '0.009*\"самолеты\" + 0.008*\"палочника\" + 0.008*\"дубовои\" + 0.008*\"китаискои\" '\n",
      "  '+ 0.008*\"имеет\" + 0.008*\"бабочки\"'),\n",
      " (7,\n",
      "  '0.007*\"наши\" + 0.006*\"немцы\" + 0.005*\"воиска\" + 0.004*\"это\" + '\n",
      "  '0.004*\"города\" + 0.004*\"весь\" + 0.004*\"ночь\" + 0.004*\"утра\" + '\n",
      "  '0.004*\"наступление\" + 0.004*\"день\"'),\n",
      " (8,\n",
      "  '0.008*\"это\" + 0.008*\"утра\" + 0.006*\"люди\" + 0.006*\"часа\" + 0.005*\"новые\" + '\n",
      "  '0.005*\"сразу\" + 0.005*\"время\" + 0.005*\"день\" + 0.005*\"армия\" + '\n",
      "  '0.005*\"началась\"'),\n",
      " (9,\n",
      "  '0.009*\"немцы\" + 0.009*\"города\" + 0.009*\"молотов\" + 0.008*\"взяли\" + '\n",
      "  '0.008*\"наши\" + 0.007*\"воиска\" + 0.006*\"ив\" + 0.006*\"вл\" + 0.005*\"день\" + '\n",
      "  '0.005*\"выступать\"'),\n",
      " (10,\n",
      "  '0.007*\"алксне\" + 0.005*\"время\" + 0.005*\"часто\" + 0.004*\"будут\" + '\n",
      "  '0.004*\"воину\" + 0.004*\"стало\" + 0.004*\"нескольких\" + 0.004*\"последнее\" + '\n",
      "  '0.004*\"встревоженно\" + 0.004*\"нам\"'),\n",
      " (11,\n",
      "  '0.006*\"несчастье\" + 0.005*\"успешна\" + 0.005*\"воина\" + 0.005*\"очень\" + '\n",
      "  '0.005*\"людям\" + 0.004*\"молотов\" + 0.004*\"июня\" + 0.003*\"пропал\" + '\n",
      "  '0.003*\"народов\" + 0.003*\"совершенно\"'),\n",
      " (12,\n",
      "  '0.009*\"день\" + 0.007*\"сегодня\" + 0.006*\"молотова\" + 0.006*\"ими\" + '\n",
      "  '0.006*\"объявлены\" + 0.006*\"радио\" + 0.006*\"выходнои\" + 0.006*\"немецк\" + '\n",
      "  '0.006*\"лото\" + 0.006*\"исповедь\"'),\n",
      " (13,\n",
      "  '0.005*\"наши\" + 0.004*\"дома\" + 0.003*\"воиска\" + 0.003*\"день\" + 0.003*\"доме\" '\n",
      "  '+ 0.003*\"немцы\" + 0.003*\"саду\" + 0.003*\"дом\" + 0.003*\"ребята\" + '\n",
      "  '0.003*\"взяли\"'),\n",
      " (14,\n",
      "  '0.006*\"вл\" + 0.005*\"дома\" + 0.005*\"это\" + 0.004*\"ив\" + 0.004*\"костюм\" + '\n",
      "  '0.004*\"решила\" + 0.004*\"бежали\" + 0.004*\"го\" + 0.003*\"взяли\" + '\n",
      "  '0.003*\"витенька\"'),\n",
      " (15,\n",
      "  '0.004*\"дома\" + 0.003*\"ребята\" + 0.003*\"день\" + 0.003*\"сад\" + 0.003*\"это\" + '\n",
      "  '0.003*\"девочки\" + 0.003*\"саду\" + 0.002*\"евгении\" + 0.002*\"работала\" + '\n",
      "  '0.002*\"рита\"'),\n",
      " (16,\n",
      "  '0.006*\"нам\" + 0.005*\"военкомата\" + 0.004*\"всем\" + 0.004*\"стали\" + '\n",
      "  '0.004*\"это\" + 0.003*\"воздушное\" + 0.003*\"грену\" + 0.003*\"городом\" + '\n",
      "  '0.003*\"наше\" + 0.003*\"значения\"'),\n",
      " (17,\n",
      "  '0.005*\"нам\" + 0.005*\"свои\" + 0.005*\"дома\" + 0.004*\"саду\" + 0.004*\"девочки\" '\n",
      "  '+ 0.004*\"сад\" + 0.003*\"ребята\" + 0.003*\"евгении\" + 0.003*\"военкомата\" + '\n",
      "  '0.003*\"день\"'),\n",
      " (18,\n",
      "  '0.006*\"дома\" + 0.006*\"ив\" + 0.005*\"го\" + 0.005*\"вл\" + 0.004*\"костюм\" + '\n",
      "  '0.004*\"это\" + 0.004*\"решила\" + 0.004*\"бежали\" + 0.004*\"домои\" + '\n",
      "  '0.003*\"ребята\"'),\n",
      " (19,\n",
      "  '0.010*\"наши\" + 0.009*\"немцы\" + 0.009*\"воиска\" + 0.006*\"наступление\" + '\n",
      "  '0.006*\"весь\" + 0.005*\"города\" + 0.005*\"продолжали\" + 0.005*\"взяли\" + '\n",
      "  '0.005*\"конце\" + 0.005*\"направлении\"')]\n"
     ]
    }
   ],
   "source": [
    "from pprint import pprint\n",
    "out = open('../sonicDataAnalizeYaro/dostoevsky/topic_data1.txt','w', encoding='utf8')\n",
    "# number of topics\n",
    "num_topics = 20\n",
    "# Build LDA model\n",
    "lda_model = gensim.models.LdaMulticore(corpus=corpus,\n",
    "                                       id2word=id2word,\n",
    "                                       num_topics=num_topics)\n",
    "s = lda_model.print_topics()# Print the Keyword in the 10 topics\n",
    "pprint(s)\n",
    "\n",
    "print(lda_model.print_topics(), file = out)\n",
    "doc_lda = lda_model[corpus]\n"
   ]
  },
  {
   "cell_type": "code",
   "execution_count": null,
   "id": "25d29219",
   "metadata": {
    "pycharm": {
     "is_executing": true
    }
   },
   "outputs": [],
   "source": []
  },
  {
   "cell_type": "code",
   "execution_count": null,
   "id": "d9d91015",
   "metadata": {
    "pycharm": {
     "is_executing": true
    }
   },
   "outputs": [],
   "source": [
    "import pyLDAvis.gensim\n",
    "import pickle \n",
    "import pyLDAvis\n",
    "# Visualize the topics\n",
    "pyLDAvis.enable_notebook()\n",
    "LDAvis_data_filepath = os.path.join('./results/ldavis_prepared_'+str(num_topics))\n",
    "# # this is a bit time consuming - make the if statement True\n",
    "# # if you want to execute visualization prep yourself\n",
    "if 1 == 1:\n",
    "    LDAvis_prepared = pyLDAvis.gensim.prepare(lda_model, corpus, id2word)\n",
    "    with open(LDAvis_data_filepath, 'wb') as f:\n",
    "        pickle.dump(LDAvis_prepared, f)\n",
    "# load the pre-prepared pyLDAvis data from disk\n",
    "with open(LDAvis_data_filepath, 'rb') as f:\n",
    "    LDAvis_prepared = pickle.load(f)\n",
    "pyLDAvis.save_html(LDAvis_prepared, './results/ldavis_prepared_'+ str(num_topics) +'.html')\n",
    "LDAvis_prepared"
   ]
  },
  {
   "cell_type": "code",
   "execution_count": null,
   "id": "0ba533aa",
   "metadata": {
    "pycharm": {
     "is_executing": true
    }
   },
   "outputs": [],
   "source": []
  }
 ],
 "metadata": {
  "kernelspec": {
   "display_name": "Python 3",
   "language": "python",
   "name": "python3"
  },
  "language_info": {
   "codemirror_mode": {
    "name": "ipython",
    "version": 3
   },
   "file_extension": ".py",
   "mimetype": "text/x-python",
   "name": "python",
   "nbconvert_exporter": "python",
   "pygments_lexer": "ipython3",
   "version": "3.8.8"
  }
 },
 "nbformat": 4,
 "nbformat_minor": 5
}